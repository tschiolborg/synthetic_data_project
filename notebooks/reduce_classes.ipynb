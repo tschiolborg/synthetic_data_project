{
 "cells": [
  {
   "cell_type": "code",
   "execution_count": null,
   "metadata": {},
   "outputs": [],
   "source": [
    "import json\n",
    "import os\n",
    "\n",
    "import dotenv\n",
    "import numpy as np\n",
    "import matplotlib.pyplot as plt\n",
    "import seaborn as sns\n",
    "\n",
    "dotenv.load_dotenv(override=True)\n",
    "\n",
    "DATA = os.getenv(\"DATA\")\n",
    "MTSD = os.getenv(\"MTSD\")\n",
    "if not DATA:\n",
    "    raise Exception('Not able to find \"DATA\" environment variable')\n",
    "if not MTSD:\n",
    "    raise Exception('Not able to find \"MTSD\" environment variable')"
   ]
  },
  {
   "cell_type": "code",
   "execution_count": null,
   "metadata": {},
   "outputs": [],
   "source": [
    "classes_dir = os.path.join(DATA, 'classes')\n",
    "anno_dir = os.path.join(MTSD, 'annotations')\n",
    "print(classes_dir)\n",
    "print(anno_dir)"
   ]
  },
  {
   "cell_type": "code",
   "execution_count": null,
   "metadata": {},
   "outputs": [],
   "source": [
    "anno_files = os.listdir(anno_dir)\n",
    "len(anno_files)"
   ]
  },
  {
   "cell_type": "code",
   "execution_count": null,
   "metadata": {},
   "outputs": [],
   "source": [
    "with open(os.path.join(classes_dir, \"classes.json\")) as f:\n",
    "    classes = json.load(f)\n",
    "len(classes)"
   ]
  },
  {
   "cell_type": "code",
   "execution_count": null,
   "metadata": {},
   "outputs": [],
   "source": [
    "with open(os.path.join(classes_dir, 'delete.txt')) as f:\n",
    "    delete = f.readlines()\n",
    "delete = [s.replace('\\n', '') for s in delete]\n",
    "delete = [s for s in delete if s != '']\n",
    "len(delete)"
   ]
  },
  {
   "cell_type": "code",
   "execution_count": null,
   "metadata": {},
   "outputs": [],
   "source": [
    "new_anno_dir = os.path.join(os.path.dirname(anno_dir), 'anno_2')\n",
    "os.makedirs(new_anno_dir, exist_ok=True)\n",
    "print(new_anno_dir)"
   ]
  },
  {
   "cell_type": "code",
   "execution_count": null,
   "metadata": {},
   "outputs": [],
   "source": [
    "n_pano = 0\n",
    "n_in_delete = 0\n",
    "\n",
    "for anno_file in anno_files:\n",
    "    with open(os.path.join(anno_dir, anno_file)) as f:\n",
    "        anno = json.load(f)\n",
    "    \n",
    "    if anno['ispano']:\n",
    "        n_pano += 1\n",
    "        continue\n",
    "    \n",
    "    anno_new = {\n",
    "        'labels': [],\n",
    "        'boxes': [],\n",
    "        'areas': [],\n",
    "        }\n",
    "    keep_anno = True\n",
    "\n",
    "    for obj in anno['objects']:\n",
    "        if obj['label'] in delete:\n",
    "            n_in_delete += 1\n",
    "            keep_anno = False\n",
    "            break\n",
    "\n",
    "        anno_new['labels'].append(obj['label'])\n",
    "        box = obj['bbox']\n",
    "        anno_new['boxes'].append([box['xmin'], box['ymin'], box['xmax'], box['ymax']])\n",
    "        anno_new['areas'].append((box['xmax'] - box['xmin']) * (box['ymax'] - box['ymin']))\n",
    "\n",
    "    if keep_anno:\n",
    "        filename = os.path.join(new_anno_dir, anno_file)\n",
    "        with open(filename, \"w+\") as f:\n",
    "            json.dump(anno_new, f, indent=6)\n",
    "\n",
    "n_pano, n_in_delete"
   ]
  },
  {
   "cell_type": "code",
   "execution_count": null,
   "metadata": {},
   "outputs": [],
   "source": [
    "anno_files = os.listdir(new_anno_dir)\n",
    "len(anno_files)"
   ]
  },
  {
   "cell_type": "code",
   "execution_count": null,
   "metadata": {},
   "outputs": [],
   "source": [
    "n_no_signs = []\n",
    "\n",
    "for anno_file in anno_files:\n",
    "    try:\n",
    "        with open(os.path.join(new_anno_dir, anno_file)) as f:\n",
    "            anno = json.load(f)\n",
    "        if len(anno['labels']) == 0:\n",
    "            n_no_signs += [anno_file]\n",
    "    except Exception as e:\n",
    "        print(anno_file)"
   ]
  },
  {
   "cell_type": "code",
   "execution_count": null,
   "metadata": {},
   "outputs": [],
   "source": [
    "len(n_no_signs)"
   ]
  },
  {
   "cell_type": "code",
   "execution_count": null,
   "metadata": {},
   "outputs": [],
   "source": [
    "with open(os.path.join(classes_dir, 'keep.txt')) as f:\n",
    "    keep = f.readlines()\n",
    "keep = [s.replace('\\n', '') for s in keep]\n",
    "keep = [s for s in keep if s != '']\n",
    "len(keep)"
   ]
  },
  {
   "cell_type": "code",
   "execution_count": null,
   "metadata": {},
   "outputs": [],
   "source": [
    "with open(os.path.join(classes_dir, 'map_mtsd2str.json')) as f:\n",
    "    map_mtsd2str = json.load(f)\n",
    "keep_str = list(set([map_mtsd2str[label] for label in keep]))\n",
    "len(keep_str)"
   ]
  },
  {
   "cell_type": "code",
   "execution_count": null,
   "metadata": {},
   "outputs": [],
   "source": [
    "count = {}\n",
    "areas = []\n",
    "\n",
    "for anno_file in anno_files:\n",
    "    with open(os.path.join(new_anno_dir, anno_file)) as f:\n",
    "        anno = json.load(f)\n",
    "\n",
    "    for label, area in zip(anno['labels'], anno['areas']):\n",
    "        if label in keep:\n",
    "            areas.append(area)\n",
    "            label = map_mtsd2str[label]\n",
    "            if label in count:\n",
    "                count[label] += 1\n",
    "            else:\n",
    "                count[label] = 1\n",
    "len(count)"
   ]
  },
  {
   "cell_type": "code",
   "execution_count": null,
   "metadata": {},
   "outputs": [],
   "source": [
    "def plot_count(x, y):\n",
    "    fig = plt.figure(figsize=(15,10))\n",
    "    sns.barplot(x=x, y=y, color='gray')\n",
    "    plt.axvline(100, 0, 1, color='blue', label='100')\n",
    "    plt.axvline(20, 0, 1, color='orange', label='20')\n",
    "    plt.xlabel('Number of signs')\n",
    "    plt.tight_layout()\n",
    "    plt.legend()\n",
    "    plt.show()\n",
    "\n",
    "y, x = zip(*sorted(count.items(), key=lambda x: -x[1]))\n",
    "\n",
    "plot_count(x=list(x), y=list(y))"
   ]
  },
  {
   "cell_type": "code",
   "execution_count": null,
   "metadata": {},
   "outputs": [],
   "source": [
    "sorted(count.items(), key=lambda x: x[1])[:5]"
   ]
  },
  {
   "cell_type": "code",
   "execution_count": null,
   "metadata": {},
   "outputs": [],
   "source": [
    "bins = list(range(10, 161, 10))\n",
    "\n",
    "bin_labels = [str(i-10) + \"-\" + str(i) for i in bins] + ['160<']\n",
    "bin_labels[0] = '<10'\n",
    "\n",
    "bins = {((bin-10)**2, bin**2):0 for bin in bins}\n",
    "bins[(160**2, 1e8)] = 0\n",
    "\n",
    "for c in areas:\n",
    "    for bin in bins:\n",
    "        if c >= bin[0] and c < bin[1]:\n",
    "            bins[bin] += 1\n",
    "\n",
    "x = list(bins.values())\n",
    "y = [str(key) for key in bins.keys()]\n",
    "cmap = ['red'] * 3 + ['gray'] * (len(x) - 3)\n",
    "\n",
    "fig = plt.figure(figsize=(10,7))\n",
    "sns.barplot(y=y, x=x, palette=cmap)\n",
    "plt.xlabel('Number of images')\n",
    "plt.ylabel('Size of sign in pixels')\n",
    "plt.yticks(np.arange(len(bin_labels)), bin_labels)\n",
    "plt.tight_layout()\n",
    "plt.show()"
   ]
  },
  {
   "cell_type": "code",
   "execution_count": null,
   "metadata": {},
   "outputs": [],
   "source": [
    "sum(list(bins.values())[:3]), sum(list(bins.values())[3:])"
   ]
  },
  {
   "cell_type": "code",
   "execution_count": null,
   "metadata": {},
   "outputs": [],
   "source": [
    "count2 = {}\n",
    "n_too_small = 0\n",
    "threshold = 30**2\n",
    "\n",
    "for anno_file in anno_files:\n",
    "    with open(os.path.join(new_anno_dir, anno_file)) as f:\n",
    "        anno = json.load(f)\n",
    "\n",
    "    for label, area in zip(anno['labels'], anno['areas']):\n",
    "        if label in keep:\n",
    "            label = map_mtsd2str[label]\n",
    "            if area < threshold:\n",
    "                n_too_small += 1\n",
    "            else:\n",
    "                if label in count2:\n",
    "                    count2[label] += 1\n",
    "                else:\n",
    "                    count2[label] = 1\n",
    "len(count2), n_too_small"
   ]
  },
  {
   "cell_type": "code",
   "execution_count": null,
   "metadata": {},
   "outputs": [],
   "source": [
    "y, x = zip(*sorted(count2.items(), key=lambda x: -x[1]))\n",
    "plot_count(x=list(x), y=list(y))"
   ]
  },
  {
   "cell_type": "code",
   "execution_count": null,
   "metadata": {},
   "outputs": [],
   "source": [
    "sorted(count2.items(), key=lambda x: x[1])[:5]"
   ]
  },
  {
   "cell_type": "code",
   "execution_count": null,
   "metadata": {},
   "outputs": [],
   "source": [
    "new_anno_dir2 = os.path.join(os.path.dirname(anno_dir), 'anno_53')\n",
    "os.makedirs(new_anno_dir2, exist_ok=True)\n",
    "print(new_anno_dir2)"
   ]
  },
  {
   "cell_type": "code",
   "execution_count": null,
   "metadata": {},
   "outputs": [],
   "source": [
    "with open(os.path.join(classes_dir, 'map_str2num.json')) as f:\n",
    "    map_str2num = json.load(f)\n",
    "len(map_str2num)"
   ]
  },
  {
   "cell_type": "code",
   "execution_count": null,
   "metadata": {},
   "outputs": [],
   "source": [
    "n_img_too_small = 0\n",
    "n_imgs = 0\n",
    "threshold = 30**2\n",
    "num_labels = 53\n",
    "\n",
    "for anno_file in anno_files:\n",
    "    with open(os.path.join(new_anno_dir, anno_file)) as f:\n",
    "        anno = json.load(f)\n",
    "    \n",
    "    anno_new = {\n",
    "        'labels': [],\n",
    "        'labels_str': [],\n",
    "        'boxes': [],\n",
    "        'areas': [],\n",
    "        }\n",
    "    keep_anno = False\n",
    "\n",
    "    for label, box, area in zip(anno['labels'], anno['boxes'], anno['areas']):\n",
    "        if label in keep:\n",
    "            if area >= threshold:\n",
    "                keep_anno = True\n",
    "            anno_new['labels'].append(map_str2num[map_mtsd2str[label]])\n",
    "            anno_new['labels_str'].append(map_mtsd2str[label])\n",
    "        else:\n",
    "            anno_new['labels'].append(num_labels + 1)\n",
    "            anno_new['labels_str'].append('other-sign')\n",
    "\n",
    "        anno_new['boxes'].append(box)\n",
    "        anno_new['areas'].append(area)\n",
    "\n",
    "    if keep_anno:\n",
    "        n_imgs += 1\n",
    "        filename = os.path.join(new_anno_dir2, anno_file)\n",
    "        with open(filename, \"w+\") as f:\n",
    "            json.dump(anno_new, f, indent=6)\n",
    "    else:\n",
    "        n_img_too_small\n",
    "\n",
    "n_imgs, n_img_too_small"
   ]
  },
  {
   "cell_type": "code",
   "execution_count": null,
   "metadata": {},
   "outputs": [],
   "source": [
    "from sklearn.model_selection import train_test_split"
   ]
  },
  {
   "cell_type": "code",
   "execution_count": null,
   "metadata": {},
   "outputs": [],
   "source": [
    "anno_files = os.listdir(new_anno_dir2)\n",
    "len(anno_files)"
   ]
  },
  {
   "cell_type": "code",
   "execution_count": null,
   "metadata": {},
   "outputs": [],
   "source": [
    "threshold = 30**2\n",
    "data = []\n",
    "\n",
    "for anno_file in anno_files:\n",
    "    with open(os.path.join(new_anno_dir2, anno_file)) as f:\n",
    "        anno = json.load(f)\n",
    "\n",
    "    for label, label_str, area in zip(anno['labels'], anno['labels_str'], anno['areas']):\n",
    "        if label_str != 'other-sign' and area >= threshold:\n",
    "            data.append([anno_file, int(label)])\n",
    "    \n",
    "len(data)"
   ]
  },
  {
   "cell_type": "code",
   "execution_count": null,
   "metadata": {},
   "outputs": [],
   "source": [
    "ids = []\n",
    "labels = []\n",
    "sorted_labels = [x[0] for x in sorted(count2.items(), key=lambda x: x[1])]\n",
    "for id, label in data:\n",
    "    if id not in ids:\n",
    "        for label2 in sorted_labels:\n",
    "            if label == map_str2num[label2]:\n",
    "                ids.append(id)\n",
    "                labels.append(label)\n",
    "                break\n",
    "len(ids), len(labels)"
   ]
  },
  {
   "cell_type": "code",
   "execution_count": null,
   "metadata": {},
   "outputs": [],
   "source": [
    "train_dir = os.path.join(os.path.dirname(anno_dir), 'anno_train')\n",
    "os.makedirs(train_dir, exist_ok=True)\n",
    "val_dir = os.path.join(os.path.dirname(anno_dir), 'anno_val')\n",
    "os.makedirs(val_dir, exist_ok=True)\n",
    "test_dir = os.path.join(os.path.dirname(anno_dir), 'anno_test')\n",
    "os.makedirs(test_dir, exist_ok=True)"
   ]
  },
  {
   "cell_type": "code",
   "execution_count": null,
   "metadata": {},
   "outputs": [],
   "source": [
    "X_train, X_test, y_train, y_test = train_test_split(ids, labels, stratify=labels, test_size=0.4)\n",
    "X_val, X_test, y_val, y_test = train_test_split(X_test, y_test, stratify=y_test, test_size=0.5)"
   ]
  },
  {
   "cell_type": "code",
   "execution_count": null,
   "metadata": {},
   "outputs": [],
   "source": [
    "print(len(X_train), len(X_val), len(X_test))\n",
    "print(len(X_train)/len(anno_files), len(X_val)/len(anno_files), len(X_test)/len(anno_files))"
   ]
  },
  {
   "cell_type": "code",
   "execution_count": null,
   "metadata": {},
   "outputs": [],
   "source": [
    "train_files = set(X_train)\n",
    "val_files = set(X_val)\n",
    "test_files = set(X_test)\n",
    "\n",
    "for anno_file in anno_files:\n",
    "    with open(os.path.join(new_anno_dir2, anno_file)) as f:\n",
    "        anno = json.load(f)\n",
    "    \n",
    "    if anno_file in train_files:\n",
    "        with open(os.path.join(train_dir, anno_file), \"w+\") as f:\n",
    "            json.dump(anno, f, indent=6)\n",
    "\n",
    "    if anno_file in val_files:\n",
    "        with open(os.path.join(val_dir, anno_file), \"w+\") as f:\n",
    "            json.dump(anno, f, indent=6)   \n",
    "    \n",
    "    if anno_file in test_files:\n",
    "        with open(os.path.join(test_dir, anno_file), \"w+\") as f:\n",
    "            json.dump(anno, f, indent=6)"
   ]
  },
  {
   "cell_type": "code",
   "execution_count": null,
   "metadata": {},
   "outputs": [],
   "source": [
    "def count_labels(dir_path, files):\n",
    "    count = {}\n",
    "\n",
    "    for anno_file in files:\n",
    "        with open(os.path.join(dir_path, anno_file)) as f:\n",
    "            anno = json.load(f)\n",
    "\n",
    "        for label, label_str, area in zip(anno['labels'], anno['labels_str'], anno['areas']):\n",
    "            if label_str != 'other-sign' and area >= threshold:\n",
    "                if label in count:\n",
    "                    count[label] += 1\n",
    "                else:\n",
    "                    count[label] = 1\n",
    "\n",
    "    return sorted(count.items(), key=lambda x: x[0])\n",
    "\n",
    "count_train = count_labels(train_dir, train_files)\n",
    "count_val = count_labels(val_dir, val_files)\n",
    "count_test = count_labels(test_dir, test_files)"
   ]
  },
  {
   "cell_type": "code",
   "execution_count": null,
   "metadata": {},
   "outputs": [],
   "source": [
    "def plot_count2(count, title, color):\n",
    "    x, y = zip(*count)\n",
    "    fig = plt.figure(figsize=(10,4))\n",
    "    sns.barplot(x=list(x), y=list(y), color=color)\n",
    "    plt.ylabel('Number of signs')\n",
    "    plt.xlabel('Class index')\n",
    "    plt.title(title + ' class distribution')\n",
    "    plt.tight_layout()\n",
    "    plt.show()\n",
    "\n",
    "counts = (count_train, count_val, count_test)\n",
    "titles = ['Train', 'Validation', 'Test']\n",
    "colors = ['gray', 'lightblue', 'lightcoral']\n",
    "\n",
    "for i in range(3):\n",
    "    print(sorted(counts[i], key=lambda x: x[1])[:5])\n",
    "    plot_count2(counts[i], titles[i], colors[i])"
   ]
  },
  {
   "cell_type": "code",
   "execution_count": null,
   "metadata": {},
   "outputs": [],
   "source": []
  },
  {
   "cell_type": "code",
   "execution_count": null,
   "metadata": {},
   "outputs": [],
   "source": []
  },
  {
   "cell_type": "code",
   "execution_count": null,
   "metadata": {},
   "outputs": [],
   "source": []
  },
  {
   "cell_type": "code",
   "execution_count": null,
   "metadata": {},
   "outputs": [],
   "source": []
  },
  {
   "cell_type": "code",
   "execution_count": null,
   "metadata": {},
   "outputs": [],
   "source": []
  },
  {
   "cell_type": "code",
   "execution_count": null,
   "metadata": {},
   "outputs": [],
   "source": []
  },
  {
   "cell_type": "code",
   "execution_count": null,
   "metadata": {},
   "outputs": [],
   "source": []
  }
 ],
 "metadata": {
  "interpreter": {
   "hash": "82364f4a6c8fd5f1e41fa4d6d0af91092bb42981c8baf9f81b66d013308e049d"
  },
  "kernelspec": {
   "display_name": "Python 3.9.7 ('BA')",
   "language": "python",
   "name": "python3"
  },
  "language_info": {
   "codemirror_mode": {
    "name": "ipython",
    "version": 3
   },
   "file_extension": ".py",
   "mimetype": "text/x-python",
   "name": "python",
   "nbconvert_exporter": "python",
   "pygments_lexer": "ipython3",
   "version": "3.9.7"
  },
  "orig_nbformat": 4
 },
 "nbformat": 4,
 "nbformat_minor": 2
}
