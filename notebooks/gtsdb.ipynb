{
 "cells": [
  {
   "cell_type": "code",
   "execution_count": 1,
   "metadata": {},
   "outputs": [],
   "source": [
    "import os\n",
    "import math\n",
    "import sys\n",
    "import warnings\n",
    "\n",
    "import numpy as np\n",
    "from PIL import Image, ImageDraw, ImageFont, ImageColor\n",
    "import matplotlib.pyplot as plt\n",
    "import seaborn as sns\n",
    "from tqdm import tqdm\n",
    "\n",
    "import torchvision\n",
    "import torch\n",
    "from torchvision import transforms as T\n",
    "from torchmetrics.detection.map import MeanAveragePrecision\n",
    "from torchvision.models.detection.faster_rcnn import fasterrcnn_resnet50_fpn, FastRCNNPredictor\n",
    "from torchvision.models.detection.anchor_utils import AnchorGenerator\n",
    "\n",
    "from torch.utils.tensorboard import SummaryWriter\n",
    "\n",
    "warnings.filterwarnings(\"ignore\")"
   ]
  },
  {
   "cell_type": "markdown",
   "metadata": {},
   "source": [
    "### Classes"
   ]
  },
  {
   "cell_type": "code",
   "execution_count": 3,
   "metadata": {},
   "outputs": [
    {
     "name": "stdout",
     "output_type": "stream",
     "text": [
      "images: 741\n",
      "signs: 1213\n"
     ]
    }
   ],
   "source": [
    "anno_file = np.genfromtxt('../data/GTSDB/gt.txt',delimiter =';', dtype= None,encoding=None)\n",
    "\n",
    "anno_dict = {}\n",
    "\n",
    "for img_id, xmin, ymin, xmax, ymax, label in anno_file:\n",
    "    if img_id in anno_dict:\n",
    "        anno_dict[img_id][\"boxes\"] += [[xmin, ymin, xmax, ymax]]\n",
    "        anno_dict[img_id][\"labels\"] += [label]\n",
    "    else:\n",
    "        anno_dict[img_id] = {}\n",
    "        anno_dict[img_id][\"boxes\"] = [[xmin, ymin, xmax, ymax]]\n",
    "        anno_dict[img_id][\"labels\"] = [label]\n",
    "\n",
    "print(f\"images: {len(anno_dict)}\")\n",
    "print(f\"signs: {len(anno_file)}\")"
   ]
  },
  {
   "cell_type": "code",
   "execution_count": 4,
   "metadata": {},
   "outputs": [
    {
     "data": {
      "text/plain": [
       "{'boxes': [[983, 388, 1024, 432], [386, 494, 442, 552], [973, 335, 1031, 390]],\n",
       " 'labels': [40, 38, 13]}"
      ]
     },
     "execution_count": 4,
     "metadata": {},
     "output_type": "execute_result"
    }
   ],
   "source": [
    "anno_dict[\"00001.ppm\"]"
   ]
  },
  {
   "cell_type": "code",
   "execution_count": 5,
   "metadata": {},
   "outputs": [
    {
     "data": {
      "image/png": "[encoded data removed]",
      "text/plain": [
       "<Figure size 720x360 with 1 Axes>"
      ]
     },
     "metadata": {
      "needs_background": "light"
     },
     "output_type": "display_data"
    }
   ],
   "source": [
    "count_labels = {i: 0 for i in range(0,43)}\n",
    "for _, target in anno_dict.items():\n",
    "    for label in target['labels']:\n",
    "        count_labels[label] += 1\n",
    "\n",
    "fig = plt.figure(figsize=(10,5))\n",
    "x, y = list(zip(*count_labels.items()))\n",
    "sns.barplot(x=list(x), y=list(y), color=\"lightblue\")\n",
    "plt.title('GTSDB class distribution')\n",
    "plt.xlabel('classes')\n",
    "plt.ylabel('Number of instances')\n",
    "plt.tight_layout()\n",
    "plt.show()"
   ]
  },
  {
   "cell_type": "code",
   "execution_count": 6,
   "metadata": {},
   "outputs": [],
   "source": [
    "classes = { 0:' Speed limit (20km/h)' ,  ###### Update this to start from 1\n",
    "    1:' Speed limit (30km/h)' ,\n",
    "    2:' Speed limit (50km/h)' ,\n",
    "    3:' Speed limit (60km/h)' ,\n",
    "    4:' Speed limit (70km/h)' ,\n",
    "    5:' Speed limit (80km/h)' ,\n",
    "    6:' End of speed limit (80km/h)' ,\n",
    "    7:' Speed limit (100km/h)' ,\n",
    "    8:' Speed limit (120km/h)' ,\n",
    "    9:' No passing' ,\n",
    "    10:' No passing veh over 3.5 tons' ,\n",
    "    11:' Right-of-way at intersection' ,\n",
    "    12:' Priority road' ,\n",
    "    13:' Yield' ,\n",
    "    14:' Stop' ,\n",
    "    15:' No vehicles' ,\n",
    "    16:' Veh > 3.5 tons prohibited' ,\n",
    "    17:' No entry' ,\n",
    "    18:' General caution' ,\n",
    "    19:' Dangerous curve left' ,\n",
    "    20:' Dangerous curve right' ,\n",
    "    21:' Double curve' ,\n",
    "    22:' Bumpy road' ,\n",
    "    23:' Slippery road' ,\n",
    "    24:' Road narrows on the right' ,\n",
    "    25:' Road work' ,\n",
    "    26:' Traffic signals' ,\n",
    "    27:' Pedestrians' ,\n",
    "    28:' Children crossing' ,\n",
    "    29:' Bicycles crossing' ,\n",
    "    30:' Beware of ice/snow' ,\n",
    "    31:' Wild animals crossing' ,\n",
    "    32:' End speed + passing limits' ,\n",
    "    33:' Turn right ahead' ,\n",
    "    34:' Turn left ahead' ,\n",
    "    35:' Ahead only' ,\n",
    "    36:' Go straight or right' ,\n",
    "    37:' Go straight or left' ,\n",
    "    38:' Keep right' ,\n",
    "    39:' Keep left' ,\n",
    "    40:' Roundabout mandatory' ,\n",
    "    41:' End of no passing' ,\n",
    "    42:' End no passing veh > 3.5 tons'\n",
    "}"
   ]
  },
  {
   "cell_type": "markdown",
   "metadata": {},
   "source": [
    "### Dataset"
   ]
  },
  {
   "cell_type": "code",
   "execution_count": 7,
   "metadata": {},
   "outputs": [],
   "source": [
    "class GTSDB(torch.utils.data.Dataset):\n",
    "    def __init__(self, image_dir, transforms=None, only_detect=False):\n",
    "        self.image_dir = image_dir\n",
    "        self.transforms = transforms\n",
    "        self.only_detect = only_detect\n",
    "        self.imgs = list(sorted(os.listdir(image_dir)))\n",
    " \n",
    "    def __getitem__(self, idx):\n",
    "        img_path = os.path.join(self.image_dir, self.imgs[idx])\n",
    "        img = Image.open(img_path).convert(\"RGB\")\n",
    "        target = anno_dict.get(self.imgs[idx]) \n",
    "\n",
    "        if target is not None:\n",
    "            target[\"boxes\"] = torch.as_tensor(target['boxes'], dtype=torch.float32)\n",
    "\n",
    "            target[\"labels\"] = (\n",
    "                torch.as_tensor(target[\"labels\"], dtype=torch.int64)\n",
    "                if not self.only_detect\n",
    "                else torch.ones(len(target[\"labels\"]), dtype=torch.int64)\n",
    "            )\n",
    "\n",
    "        else:\n",
    "            target = {}\n",
    "            target[\"boxes\"] = torch.empty((0,4), dtype=torch.float32)\n",
    "            target[\"labels\"] = torch.empty((0), dtype=torch.int64)\n",
    " \n",
    "        if self.transforms is not None:\n",
    "            img = self.transforms(img)\n",
    "        else:\n",
    "            img = T.ToTensor()(img)\n",
    " \n",
    "        return img, target\n",
    " \n",
    "    def __len__(self):\n",
    "        return len(self.imgs)"
   ]
  },
  {
   "cell_type": "code",
   "execution_count": 8,
   "metadata": {},
   "outputs": [],
   "source": [
    "def collate_fn(batch):\n",
    "    return tuple(zip(*batch))"
   ]
  },
  {
   "cell_type": "code",
   "execution_count": 9,
   "metadata": {},
   "outputs": [],
   "source": [
    "import json"
   ]
  },
  {
   "cell_type": "markdown",
   "metadata": {},
   "source": [
    "### Transforms"
   ]
  },
  {
   "cell_type": "code",
   "execution_count": 10,
   "metadata": {},
   "outputs": [],
   "source": [
    "def get_transform(train):\n",
    "    if train:\n",
    "        return T.Compose(\n",
    "            [\n",
    "                T.ColorJitter(brightness=0.5, contrast=0.5),\n",
    "                T.GaussianBlur(kernel_size=(3, 11), sigma=(0.1, 3)),\n",
    "                T.ToTensor(),\n",
    "            ]\n",
    "        )\n",
    "    else:\n",
    "        return T.Compose([T.ToTensor()])"
   ]
  },
  {
   "cell_type": "markdown",
   "metadata": {},
   "source": [
    "### Train"
   ]
  },
  {
   "cell_type": "code",
   "execution_count": 11,
   "metadata": {},
   "outputs": [],
   "source": [
    "def train_one_epoch(model, optimizer, data_loader, device, epoch, scaler=None, writers=None):\n",
    "    model.train()\n",
    "\n",
    "    total_loss = []\n",
    "\n",
    "    lr_scheduler = None\n",
    "    if epoch == 0:\n",
    "        warmup_factor = 1.0 / 1000\n",
    "        warmup_iters = min(1000, len(data_loader) - 1)\n",
    "\n",
    "        lr_scheduler = torch.optim.lr_scheduler.LinearLR(\n",
    "            optimizer, start_factor=warmup_factor, total_iters=warmup_iters\n",
    "        )\n",
    "\n",
    "    for idx, (images, targets) in enumerate(\n",
    "        tqdm(data_loader, desc=f\"Epoch [{epoch+1}]\", position=0, leave=True)\n",
    "    ):\n",
    "        # to device\n",
    "        images = list(image.to(device) for image in images)\n",
    "        targets = [{k: v.to(device) for k, v in t.items()} for t in targets]\n",
    "\n",
    "        # loss\n",
    "        with torch.cuda.amp.autocast(enabled=scaler is not None):\n",
    "            loss_dict = model(images, targets)\n",
    "            losses = sum(loss for loss in loss_dict.values())\n",
    "        loss_value = losses.item()\n",
    "\n",
    "        if not math.isfinite(loss_value):\n",
    "            print(f\"Loss is {loss_value}, stopping training\")\n",
    "            print(loss_dict)\n",
    "            sys.exit(1)\n",
    "\n",
    "        optimizer.zero_grad()\n",
    "        if scaler is not None:\n",
    "            scaler.scale(losses).backward()\n",
    "            scaler.step(optimizer)\n",
    "            scaler.update()\n",
    "        else:\n",
    "            losses.backward()\n",
    "            optimizer.step()\n",
    "\n",
    "        if lr_scheduler is not None:\n",
    "            lr_scheduler.step()\n",
    "\n",
    "        total_loss += [losses.item()]\n",
    "\n",
    "    for writer in writers:\n",
    "        if writer is not None:\n",
    "            writer.add_scalar(\"Loss/train\", np.mean(total_loss), epoch)\n",
    "\n",
    "    return np.mean(total_loss)\n",
    "\n",
    "@torch.inference_mode()\n",
    "def evaluate(model, data_loader, device, metric, epoch, writers=None):\n",
    "    model.eval()\n",
    "\n",
    "    for images, targets in tqdm(data_loader, desc=\"Evaluating score\", position=0, leave=True):\n",
    "        # to device\n",
    "        images = list(image.to(device) for image in images)\n",
    "        targets = [{k: v.to(device) for k, v in t.items()} for t in targets]\n",
    "\n",
    "        with torch.cuda.amp.autocast(enabled=False):\n",
    "            detections = model(images, targets)\n",
    "\n",
    "        metric.update(detections, targets)\n",
    "\n",
    "    scores = metric.compute()\n",
    "    metric.reset()\n",
    "\n",
    "\n",
    "    model.train() # to get loss\n",
    "\n",
    "    total_loss = []\n",
    "\n",
    "    for images, targets in tqdm(data_loader, desc=\"Evaluating loss\", position=0, leave=True):\n",
    "        # to device\n",
    "        images = list(image.to(device) for image in images)\n",
    "        targets = [{k: v.to(device) for k, v in t.items()} for t in targets]\n",
    "\n",
    "        loss_dict = model(images, targets)\n",
    "        losses = sum(loss for loss in loss_dict.values())\n",
    "\n",
    "        total_loss += [losses.item()]\n",
    "\n",
    "    for writer in writers:\n",
    "        if writer is not None:\n",
    "            writer.add_scalar(\"Loss/val\", np.mean(total_loss), epoch)\n",
    "            writer.add_scalars(\"Score/val\", scores, epoch)\n",
    "\n",
    "    return np.mean(total_loss), scores\n"
   ]
  },
  {
   "cell_type": "code",
   "execution_count": 12,
   "metadata": {},
   "outputs": [],
   "source": [
    "class Json_writer():\n",
    "    def __init__(self, log_file, reset=True):\n",
    "        if reset:\n",
    "            self.data = {}\n",
    "        else:\n",
    "            with open(log_file) as f:\n",
    "                self.data = json.load(f)\n",
    "        \n",
    "        self.log_file = log_file\n",
    "\n",
    "    def add_scalar(self, tag, value, epoch):\n",
    "        if torch.is_tensor(value):\n",
    "            value = value.item()\n",
    "        if tag in self.data:\n",
    "            self.data[tag] += [value]\n",
    "        else:\n",
    "            self.data[tag] = [value]\n",
    "\n",
    "    def add_scalars(self, tag, value_dict, epoch):\n",
    "        if tag in self.data:\n",
    "            for key, value in value_dict.items():\n",
    "                if torch.is_tensor(value):\n",
    "                    value = value.item()\n",
    "                self.data[tag][key] += [value]\n",
    "        else:\n",
    "            self.data[tag] = {}\n",
    "            for key, value in value_dict.items():\n",
    "                if torch.is_tensor(value):\n",
    "                    value = value.item()\n",
    "                self.data[tag][key] = [value]\n",
    "\n",
    "    def flush(self):\n",
    "        with open(self.log_file, \"w+\") as f:\n",
    "            json.dump(self.data, f, indent=6)"
   ]
  },
  {
   "cell_type": "code",
   "execution_count": 13,
   "metadata": {},
   "outputs": [
    {
     "name": "stdout",
     "output_type": "stream",
     "text": [
      "Using cuda\n"
     ]
    }
   ],
   "source": [
    "device = torch.device(\"cuda\" if torch.cuda.is_available() else \"cpu\")\n",
    "print(f\"Using {device}\")"
   ]
  },
  {
   "cell_type": "code",
   "execution_count": 14,
   "metadata": {},
   "outputs": [],
   "source": [
    "only_detect = False\n",
    "num_classes = 2 if only_detect else 44\n",
    "\n",
    "dataset_trian = GTSDB(\"../data/GTSDB/train\", transforms=get_transform(True), only_detect=only_detect)\n",
    "dataset_val = GTSDB(\"../data/GTSDB/test\", transforms=get_transform(False), only_detect=only_detect)\n",
    "\n",
    "data_loader_train = torch.utils.data.DataLoader(\n",
    "    dataset_trian,\n",
    "    batch_size=2,\n",
    "    shuffle=True,\n",
    "    num_workers=0,\n",
    "    collate_fn=collate_fn,\n",
    ")\n",
    "data_loader_test = torch.utils.data.DataLoader(\n",
    "    dataset_val,\n",
    "    batch_size=2,\n",
    "    shuffle=False,\n",
    "    num_workers=0,\n",
    "    collate_fn=collate_fn,\n",
    "    )"
   ]
  },
  {
   "cell_type": "code",
   "execution_count": 32,
   "metadata": {},
   "outputs": [
    {
     "name": "stderr",
     "output_type": "stream",
     "text": [
      "Epoch [1]: 100%|██████████| 300/300 [02:58<00:00,  1.68it/s]\n",
      "Evaluating score: 100%|██████████| 150/150 [00:30<00:00,  4.95it/s]\n",
      "Evaluating loss: 100%|██████████| 150/150 [00:31<00:00,  4.83it/s]\n",
      "Epoch [2]: 100%|██████████| 300/300 [03:00<00:00,  1.66it/s]\n",
      "Evaluating score: 100%|██████████| 150/150 [00:30<00:00,  4.90it/s]\n",
      "Evaluating loss: 100%|██████████| 150/150 [00:30<00:00,  4.91it/s]\n"
     ]
    }
   ],
   "source": [
    "\n",
    "model = fasterrcnn_resnet50_fpn(pretrained=True)\n",
    "in_features = model.roi_heads.box_predictor.cls_score.in_features\n",
    "model.roi_heads.box_predictor = FastRCNNPredictor(in_features, num_classes)\n",
    "\n",
    "params = [p for p in model.parameters() if p.requires_grad]\n",
    "optimizer = torch.optim.SGD(params, lr=0.001, momentum=0.9, weight_decay=0.0005)\n",
    "\n",
    "lr_scheduler = torch.optim.lr_scheduler.StepLR(optimizer, step_size=10, gamma=0.1)\n",
    "\n",
    "num_epochs = 2\n",
    "\n",
    "val_metric = MeanAveragePrecision()\n",
    "\n",
    "train_losses = []\n",
    "val_losses = []\n",
    "val_scores = []\n",
    "\n",
    "writers = [\n",
    "    SummaryWriter(log_dir=\"logs/gtsdb/run_10\"),\n",
    "    Json_writer(log_file=\"logs/gtsdb/run_10.json\"),\n",
    "]\n",
    "\n",
    "model = model.to(device)\n",
    "\n",
    "for epoch in range(num_epochs):\n",
    "    # train one epoch\n",
    "    loss = train_one_epoch(model, optimizer, data_loader_train, device=device, epoch=epoch, writers=writers)\n",
    "    train_losses += [loss]\n",
    "\n",
    "    # update the learning rate\n",
    "    lr_scheduler.step()\n",
    "\n",
    "    # evaluate on the test dataset\n",
    "    loss, scores = evaluate(model, data_loader_test, device=device, metric=val_metric, epoch=epoch, writers=writers)\n",
    "    val_losses += [loss]\n",
    "    val_scores += [scores]\n",
    "\n",
    "for writer in writers:\n",
    "    writer.flush()\n"
   ]
  },
  {
   "cell_type": "markdown",
   "metadata": {},
   "source": [
    "#### Save model"
   ]
  },
  {
   "cell_type": "code",
   "execution_count": 45,
   "metadata": {},
   "outputs": [],
   "source": [
    "torch.save(model, f'./saved_models/model{num_epochs}.pkl')\n",
    "torch.save(model.state_dict(), f'./saved_models/model{num_epochs}.pth')\n",
    "torch.save({\n",
    "    'epoch' : epoch,\n",
    "    \"model_state_dict\" : model.state_dict(),\n",
    "    'optimizer_state_dict' : optimizer.state_dict(),\n",
    "}, f'./saved_models/ckpt{num_epochs}.pth')"
   ]
  },
  {
   "cell_type": "code",
   "execution_count": 38,
   "metadata": {},
   "outputs": [],
   "source": [
    "aa = Json_writer(\"logs/gtsdb/run_10.json\", False)"
   ]
  },
  {
   "cell_type": "code",
   "execution_count": 39,
   "metadata": {},
   "outputs": [
    {
     "data": {
      "text/plain": [
       "{'Loss/train': [0.681734551920866, 0.3152900227791785],\n",
       " 'Loss/val': [0.2874873630469665, 0.24174932718703834],\n",
       " 'Score/val': {'map': [0.020456338301301003, 0.06900028884410858],\n",
       "  'map_50': [0.0474911630153656, 0.12687240540981293],\n",
       "  'map_75': [0.011527971364557743, 0.06486724317073822],\n",
       "  'map_small': [0.016452251002192497, 0.07605691254138947],\n",
       "  'map_medium': [0.029511066153645515, 0.08424893021583557],\n",
       "  'map_large': [0.0, 0.20173126459121704],\n",
       "  'mar_1': [0.051589783281087875, 0.13627073168754578],\n",
       "  'mar_10': [0.08361048996448517, 0.1818751096725464],\n",
       "  'mar_100': [0.08361048996448517, 0.1818751096725464],\n",
       "  'mar_small': [0.08644244074821472, 0.22667033970355988],\n",
       "  'mar_medium': [0.10100023448467255, 0.20194761455059052],\n",
       "  'mar_large': [0.0, 0.4520000219345093],\n",
       "  'map_per_class': [-1.0, -1.0],\n",
       "  'mar_100_per_class': [-1.0, -1.0]}}"
      ]
     },
     "execution_count": 39,
     "metadata": {},
     "output_type": "execute_result"
    }
   ],
   "source": [
    "aa.data"
   ]
  },
  {
   "cell_type": "code",
   "execution_count": 40,
   "metadata": {},
   "outputs": [],
   "source": [
    "train_losses = aa.data['Loss/train']\n",
    "val_losses = aa.data['Loss/val']\n",
    "val_scores = aa.data['Score/val']"
   ]
  },
  {
   "cell_type": "code",
   "execution_count": 43,
   "metadata": {},
   "outputs": [
    {
     "data": {
      "text/plain": [
       "{'map': [0.020456338301301003, 0.06900028884410858],\n",
       " 'map_50': [0.0474911630153656, 0.12687240540981293],\n",
       " 'map_75': [0.011527971364557743, 0.06486724317073822],\n",
       " 'map_small': [0.016452251002192497, 0.07605691254138947],\n",
       " 'map_medium': [0.029511066153645515, 0.08424893021583557],\n",
       " 'map_large': [0.0, 0.20173126459121704],\n",
       " 'mar_1': [0.051589783281087875, 0.13627073168754578],\n",
       " 'mar_10': [0.08361048996448517, 0.1818751096725464],\n",
       " 'mar_100': [0.08361048996448517, 0.1818751096725464],\n",
       " 'mar_small': [0.08644244074821472, 0.22667033970355988],\n",
       " 'mar_medium': [0.10100023448467255, 0.20194761455059052],\n",
       " 'mar_large': [0.0, 0.4520000219345093],\n",
       " 'map_per_class': [-1.0, -1.0],\n",
       " 'mar_100_per_class': [-1.0, -1.0]}"
      ]
     },
     "execution_count": 43,
     "metadata": {},
     "output_type": "execute_result"
    }
   ],
   "source": [
    "val_scores"
   ]
  },
  {
   "cell_type": "markdown",
   "metadata": {},
   "source": [
    "### Plot"
   ]
  },
  {
   "cell_type": "code",
   "execution_count": 41,
   "metadata": {},
   "outputs": [
    {
     "data": {
      "image/png": "[encoded data removed]",
      "text/plain": [
       "<Figure size 720x576 with 1 Axes>"
      ]
     },
     "metadata": {
      "needs_background": "light"
     },
     "output_type": "display_data"
    }
   ],
   "source": [
    "epochs = range(num_epochs)\n",
    "fig = plt.figure(figsize=(10,8))\n",
    "plt.plot(epochs, train_losses, label=\"train loss\")\n",
    "plt.plot(epochs, val_losses, label=\"val loss\")\n",
    "plt.xlabel(\"Epochs\", fontdict={'size': 12})\n",
    "plt.ylabel(\"Loss\", fontdict={'size': 12})\n",
    "plt.title(\"Loss\", fontdict={'size': 16})\n",
    "plt.legend(prop={'size': 12})\n",
    "plt.show()"
   ]
  },
  {
   "cell_type": "code",
   "execution_count": 44,
   "metadata": {},
   "outputs": [
    {
     "data": {
      "image/png": "[encoded data removed]",
      "text/plain": [
       "<Figure size 720x576 with 1 Axes>"
      ]
     },
     "metadata": {
      "needs_background": "light"
     },
     "output_type": "display_data"
    }
   ],
   "source": [
    "val_map = val_scores['map'] #[elm['map'] for elm in val_scores]\n",
    "val_map50 = val_scores['map_50'] #[elm['map_50'] for elm in val_scores]\n",
    "val_map75 = val_scores['map_75'] #[elm['map_75'] for elm in val_scores]\n",
    "\n",
    "score_metric = \"AP\" if only_detect else \"mAP\"\n",
    "\n",
    "fig = plt.figure(figsize=(10,8))\n",
    "plt.plot(epochs, val_map, label=f\"{score_metric} @ IoU=0.50:0.95\")\n",
    "plt.plot(epochs, val_map50, label=f\"{score_metric} @ IoU=0.50\")\n",
    "plt.plot(epochs, val_map75, label=f\"{score_metric} @ IoU=0.75\")\n",
    "plt.xlabel(\"Epochs\", fontdict={'size': 12})\n",
    "plt.ylabel(score_metric, fontdict={'size': 12})\n",
    "plt.title(\"Averge Precision\", fontdict={'size': 16})\n",
    "plt.legend(prop={'size': 12})\n",
    "plt.show()"
   ]
  },
  {
   "cell_type": "code",
   "execution_count": 48,
   "metadata": {},
   "outputs": [
    {
     "data": {
      "text/plain": [
       "{'map': tensor(0.1693),\n",
       " 'map_50': tensor(0.2665),\n",
       " 'map_75': tensor(0.2054),\n",
       " 'map_small': tensor(0.2230),\n",
       " 'map_medium': tensor(0.2109),\n",
       " 'map_large': tensor(0.6081),\n",
       " 'mar_1': tensor(0.3298),\n",
       " 'mar_10': tensor(0.3990),\n",
       " 'mar_100': tensor(0.3990),\n",
       " 'mar_small': tensor(0.4512),\n",
       " 'mar_medium': tensor(0.4255),\n",
       " 'mar_large': tensor(0.8200),\n",
       " 'map_per_class': tensor(-1.),\n",
       " 'mar_100_per_class': tensor(-1.)}"
      ]
     },
     "execution_count": 48,
     "metadata": {},
     "output_type": "execute_result"
    }
   ],
   "source": [
    "final_score = val_scores[-1]\n",
    "final_score"
   ]
  },
  {
   "cell_type": "markdown",
   "metadata": {},
   "source": [
    "### Inference"
   ]
  },
  {
   "cell_type": "code",
   "execution_count": 16,
   "metadata": {},
   "outputs": [],
   "source": [
    "def draw_bounding_box_on_image(image, ymin, xmin, ymax, xmax, color, font, thickness=4, display_str=\"\"):\n",
    "  draw = ImageDraw.Draw(image)\n",
    "  im_width, im_height = image.size\n",
    "  (left, right, top, bottom) = (xmin * im_width, xmax * im_width, ymin * im_height, ymax * im_height)\n",
    "  draw.line([(left, top), (left, bottom), (right, bottom), (right, top), (left, top)], width=thickness, fill=color)\n",
    "\n",
    "  # If the total height of the display strings added to the top of the bounding\n",
    "  # box exceeds the top of the image, stack the strings below the bounding box\n",
    "  # instead of above.\n",
    "  display_str_height = (1 + 2 * 0.05) * font.getsize(display_str)[1]\n",
    "\n",
    "  if top > display_str_height:\n",
    "    text_bottom = top\n",
    "  else:\n",
    "    text_bottom = top + display_str_height\n",
    "\n",
    "  text_width, text_height = font.getsize(display_str)\n",
    "  margin = np.ceil(0.05 * text_height)\n",
    "  draw.rectangle([(left, text_bottom - text_height - 2 * margin), (left + text_width, text_bottom)], fill=color)\n",
    "  draw.text((left + margin, text_bottom - text_height - margin), display_str, fill=\"black\", font=font)\n",
    "\n",
    "\n",
    "\n",
    "def draw_boxes(image, boxes, labels, scores, keep, max_boxes=10, min_score=0.01, classes=None):\n",
    "  \"\"\" returns PIL image with boxes \"\"\"\n",
    "  colors = list(ImageColor.colormap.values())\n",
    "  font = ImageFont.load_default()\n",
    "\n",
    "  im_height, im_width = image.shape[1:]\n",
    "  image_pil = T.ToPILImage()(image)\n",
    "\n",
    "  for i in range(min(len(boxes), max_boxes)):\n",
    "    if scores[i] >= min_score and i in keep:\n",
    "      xmin, ymin, xmax, ymax = tuple(boxes[i])\n",
    "      xmin, ymin, xmax, ymax = xmin / im_width, ymin / im_height, xmax / im_width, ymax / im_height\n",
    "      label = classes[labels[i].item()] if classes is not None else labels[i].item()\n",
    "      display_str = f\"{label}: {int(100 * scores[i])}%\"\n",
    "      color = colors[hash(labels[i]) % len(colors)]\n",
    "      draw_bounding_box_on_image(image_pil, ymin, xmin, ymax, xmax, color, font, display_str=display_str)\n",
    "  return image_pil"
   ]
  },
  {
   "cell_type": "code",
   "execution_count": 17,
   "metadata": {},
   "outputs": [],
   "source": [
    "def predict(img, model):\n",
    "    model.eval()\n",
    "\n",
    "    with torch.no_grad():\n",
    "        pred = model([img.to(device)])[0]\n",
    "\n",
    "    keep = torchvision.ops.nms(pred['boxes'] , pred['scores'], 0.1)\n",
    "    return pred, keep\n",
    "\n",
    "def predict_and_display(img, model, classes=None):\n",
    "    pred, keep = predict(img, model)\n",
    "    return draw_boxes(img.cpu(), pred['boxes'].cpu(), pred['labels'].cpu(), pred['scores'].cpu(), keep.cpu(), classes=classes)"
   ]
  },
  {
   "cell_type": "code",
   "execution_count": 10,
   "metadata": {},
   "outputs": [],
   "source": [
    "model = torch.load(\"saved_models/model100.pkl\")"
   ]
  },
  {
   "cell_type": "code",
   "execution_count": 18,
   "metadata": {},
   "outputs": [],
   "source": [
    "def get_iou(box1, box2):\n",
    "    \"\"\"\n",
    "    computes intersection over union\n",
    "    boxes on form: [xmin, ymin, xmax, ymax]\n",
    "    \"\"\"\n",
    "    bb1 = {\n",
    "        'x1':box1[0], \n",
    "        'y1':box1[1],\n",
    "        'x2':box1[2],\n",
    "        'y2':box1[3],\n",
    "        }\n",
    "    bb2 = {\n",
    "        'x1':box2[0], \n",
    "        'y1':box2[1],\n",
    "        'x2':box2[2],\n",
    "        'y2':box2[3],\n",
    "        }\n",
    "\n",
    "    assert bb1['x1'] < bb1['x2']\n",
    "    assert bb1['y1'] < bb1['y2']\n",
    "    assert bb2['x1'] < bb2['x2']\n",
    "    assert bb2['y1'] < bb2['y2']\n",
    "\n",
    "    # determine the coordinates of the intersection rectangle\n",
    "    x_left = max(bb1['x1'], bb2['x1'])\n",
    "    y_top = max(bb1['y1'], bb2['y1'])\n",
    "    x_right = min(bb1['x2'], bb2['x2'])\n",
    "    y_bottom = min(bb1['y2'], bb2['y2'])\n",
    "\n",
    "    if x_right < x_left or y_bottom < y_top:\n",
    "        return 0.0\n",
    "\n",
    "    intersection_area = (x_right - x_left) * (y_bottom - y_top)\n",
    "\n",
    "    bb1_area = (bb1['x2'] - bb1['x1']) * (bb1['y2'] - bb1['y1'])\n",
    "    bb2_area = (bb2['x2'] - bb2['x1']) * (bb2['y2'] - bb2['y1'])\n",
    "\n",
    "    iou = intersection_area / float(bb1_area + bb2_area - intersection_area)\n",
    "    assert iou >= 0.0\n",
    "    assert iou <= 1.0\n",
    "    return iou"
   ]
  },
  {
   "cell_type": "code",
   "execution_count": 19,
   "metadata": {},
   "outputs": [],
   "source": [
    "only_detect = False\n",
    "num_classes = 2 if only_detect else 44\n",
    "\n",
    "dataset_val = GTSDB(\"../data/GTSDB/test\", transforms=get_transform(False), only_detect=only_detect)\n",
    "\n",
    "data_loader_test = torch.utils.data.DataLoader(\n",
    "    dataset_val,\n",
    "    batch_size=2,\n",
    "    shuffle=False,\n",
    "    num_workers=0,\n",
    "    collate_fn=collate_fn,\n",
    "    )"
   ]
  },
  {
   "cell_type": "code",
   "execution_count": 24,
   "metadata": {},
   "outputs": [],
   "source": [
    "model.eval()\n",
    "\n",
    "total = []\n",
    "hits = []\n",
    "miss = []\n",
    "backgrounds = []\n",
    "class_err = []\n",
    "double = []\n",
    "\n",
    "do_class = False\n",
    "\n",
    "for imgs, targets in data_loader_test:\n",
    "    with torch.no_grad():\n",
    "        preds = model([img.to(device) for img in imgs])\n",
    "\n",
    "    targets = [{k: v.cpu() for k, v in t.items()} for t in targets]\n",
    "    preds = [{k: v.cpu() for k, v in t.items()} for t in preds]\n",
    "    \n",
    "    for pred, target in zip(preds, targets):\n",
    "        total += target['labels']\n",
    "\n",
    "        if len(target['boxes']) == 0:\n",
    "            backgrounds += pred['labels']\n",
    "\n",
    "        elif len(pred['boxes']) == 0:\n",
    "            miss += target['labels']\n",
    "\n",
    "        else:\n",
    "            chosen = {i: False for i in range(len(target['boxes']))}\n",
    "            for j, box_p in enumerate(pred['boxes']):\n",
    "                cand = []\n",
    "                for i, box_t in enumerate(target['boxes']):\n",
    "                    iou = get_iou(box_p, box_t)\n",
    "                    cand += [(i, iou)]\n",
    "\n",
    "                cand = sorted(cand, key=lambda x: -x[1])\n",
    "                found = False\n",
    "\n",
    "                if len(cand) > 0:\n",
    "                    i, iou = cand[0]\n",
    "                    if iou >= 0.5:\n",
    "                        found = True\n",
    "                        if chosen[i]:\n",
    "                            double += [target['labels'][i]]\n",
    "                        else:\n",
    "                            if do_class:\n",
    "                                if pred['labels'][j] == target['labels'][i]:\n",
    "                                    chosen[i] = True\n",
    "                                else:\n",
    "                                    class_err += [(target['labels'][i], pred['labels'][j])]\n",
    "                            else:\n",
    "                                chosen[i] = True\n",
    "                    else:\n",
    "                        backgrounds += [pred['labels'][j]]\n",
    "                else:\n",
    "                    backgrounds += [pred['labels'][j]]\n",
    "            for i, b in chosen.items():\n",
    "                if b:\n",
    "                    hits += [target['labels'][i]]\n",
    "                else:\n",
    "                    miss += [target['labels'][i]]"
   ]
  },
  {
   "cell_type": "code",
   "execution_count": 25,
   "metadata": {},
   "outputs": [
    {
     "data": {
      "text/plain": [
       "(361, 356, 5, 672, 1566, 0)"
      ]
     },
     "execution_count": 25,
     "metadata": {},
     "output_type": "execute_result"
    }
   ],
   "source": [
    "len(total), len(hits), len(miss), len(backgrounds), len(double), len(class_err)"
   ]
  },
  {
   "cell_type": "code",
   "execution_count": 26,
   "metadata": {},
   "outputs": [
    {
     "data": {
      "text/plain": [
       "[' Yield',\n",
       " ' General caution',\n",
       " ' General caution',\n",
       " ' Traffic signals',\n",
       " ' Traffic signals']"
      ]
     },
     "execution_count": 26,
     "metadata": {},
     "output_type": "execute_result"
    }
   ],
   "source": [
    "[classes[m.item()] for m in miss]"
   ]
  },
  {
   "cell_type": "code",
   "execution_count": 1,
   "metadata": {},
   "outputs": [
    {
     "ename": "NameError",
     "evalue": "name 'predict_and_display' is not defined",
     "output_type": "error",
     "traceback": [
      "\u001b[1;31m---------------------------------------------------------------------------\u001b[0m",
      "\u001b[1;31mNameError\u001b[0m                                 Traceback (most recent call last)",
      "\u001b[1;32mc:\\Users\\saibo\\Documents\\bachelor_project\\notebooks\\gtsdb.ipynb Cell 38'\u001b[0m in \u001b[0;36m<module>\u001b[1;34m\u001b[0m\n\u001b[1;32m----> <a href='vscode-notebook-cell:/c%3A/Users/saibo/Documents/bachelor_project/notebooks/gtsdb.ipynb#ch0000037?line=0'>1</a>\u001b[0m predict_and_display(dataset_val[\u001b[39m11\u001b[39m][\u001b[39m0\u001b[39m], model, classes)\n",
      "\u001b[1;31mNameError\u001b[0m: name 'predict_and_display' is not defined"
     ]
    }
   ],
   "source": [
    "predict_and_display(dataset_val[11][0], model, classes)"
   ]
  },
  {
   "cell_type": "code",
   "execution_count": null,
   "metadata": {},
   "outputs": [],
   "source": []
  },
  {
   "cell_type": "code",
   "execution_count": null,
   "metadata": {},
   "outputs": [],
   "source": []
  },
  {
   "cell_type": "code",
   "execution_count": null,
   "metadata": {},
   "outputs": [],
   "source": []
  },
  {
   "cell_type": "code",
   "execution_count": null,
   "metadata": {},
   "outputs": [],
   "source": []
  },
  {
   "cell_type": "code",
   "execution_count": null,
   "metadata": {},
   "outputs": [],
   "source": []
  },
  {
   "cell_type": "code",
   "execution_count": null,
   "metadata": {},
   "outputs": [],
   "source": []
  }
 ],
 "metadata": {
  "interpreter": {
   "hash": "ecf69d408644e91f48dd8fc31679a7392159cf68d1722d1a0ff43b441139d402"
  },
  "kernelspec": {
   "display_name": "Python 3.9.10 ('BA')",
   "language": "python",
   "name": "python3"
  },
  "language_info": {
   "codemirror_mode": {
    "name": "ipython",
    "version": 3
   },
   "file_extension": ".py",
   "mimetype": "text/x-python",
   "name": "python",
   "nbconvert_exporter": "python",
   "pygments_lexer": "ipython3",
   "version": "3.9.10"
  },
  "orig_nbformat": 4
 },
 "nbformat": 4,
 "nbformat_minor": 2
}
