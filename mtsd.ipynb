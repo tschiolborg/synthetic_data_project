{
 "cells": [
  {
   "cell_type": "code",
   "execution_count": 1,
   "metadata": {},
   "outputs": [],
   "source": [
    "import os\n",
    "import math\n",
    "import sys\n",
    "import warnings\n",
    "import json\n",
    "from pathlib import Path\n",
    "\n",
    "import numpy as np\n",
    "from PIL import Image, ImageDraw, ImageFont, ImageColor\n",
    "import matplotlib.pyplot as plt\n",
    "import seaborn as sns\n",
    "from tqdm import tqdm\n",
    "import albumentations as A\n",
    "from albumentations.pytorch.transforms import ToTensorV2\n",
    "import cv2\n",
    "\n",
    "from torchvision.models.detection.anchor_utils import AnchorGenerator\n",
    "import torchvision\n",
    "import torch\n",
    "from torchvision import transforms as T\n",
    "from torchmetrics.detection.map import MeanAveragePrecision\n",
    "from torchvision.models.detection.faster_rcnn import fasterrcnn_resnet50_fpn, FastRCNNPredictor, FasterRCNN\n",
    "\n",
    "from torch.utils.tensorboard import SummaryWriter\n",
    "\n",
    "warnings.filterwarnings(\"ignore\")"
   ]
  },
  {
   "cell_type": "code",
   "execution_count": 2,
   "metadata": {},
   "outputs": [
    {
     "name": "stdout",
     "output_type": "stream",
     "text": [
      "C:\\Users\\saibo\\Documents\\bachelor_project\\data\\classes\n",
      "C:\\Users\\saibo\\Documents\\bachelor_project\\data\\MTSD\\images\n",
      "C:\\Users\\saibo\\Documents\\bachelor_project\\data\\MTSD\\anno_train\n",
      "C:\\Users\\saibo\\Documents\\bachelor_project\\data\\MTSD\\anno_val\n",
      "C:\\Users\\saibo\\Documents\\bachelor_project\\data\\MTSD\\anno_test\n"
     ]
    }
   ],
   "source": [
    "import dotenv\n",
    "dotenv.load_dotenv(override=True)\n",
    "\n",
    "DATA = os.getenv(\"DATA\")\n",
    "MTSD = os.getenv(\"MTSD\")\n",
    "if not DATA:\n",
    "    raise Exception('Not able to find \"DATA\" environment variable')\n",
    "if not MTSD:\n",
    "    raise Exception('Not able to find \"MTSD\" environment variable')\n",
    "\n",
    "classes_dir = os.path.join(DATA, 'classes')\n",
    "img_dir = os.path.join(MTSD, 'images')\n",
    "anno_train = os.path.join(MTSD, 'anno_train')\n",
    "anno_val = os.path.join(MTSD, 'anno_val')\n",
    "anno_test = os.path.join(MTSD, 'anno_test')\n",
    "print(classes_dir)\n",
    "print(img_dir)\n",
    "print(anno_train)\n",
    "print(anno_val)\n",
    "print(anno_test)"
   ]
  },
  {
   "cell_type": "code",
   "execution_count": 3,
   "metadata": {},
   "outputs": [
    {
     "data": {
      "text/plain": [
       "53"
      ]
     },
     "execution_count": 3,
     "metadata": {},
     "output_type": "execute_result"
    }
   ],
   "source": [
    "with open(os.path.join(classes_dir, 'map_str2num.json')) as f:\n",
    "    str2num = json.load(f)\n",
    "num_classes = len(str2num)\n",
    "num_classes"
   ]
  },
  {
   "cell_type": "code",
   "execution_count": 4,
   "metadata": {},
   "outputs": [],
   "source": [
    "class MTSD_Dataset(torch.utils.data.Dataset):\n",
    "    def __init__(self, image_dir, anno_dir, extension='jpg', transforms=None, only_detect=False, threshold=900, keep_other=False):\n",
    "        self.image_dir = image_dir\n",
    "        self.anno_dir = anno_dir\n",
    "        self.extension = extension\n",
    "        self.transforms = transforms\n",
    "        self.only_detect = only_detect\n",
    "        self.threshold = threshold\n",
    "        self.keep_other = keep_other\n",
    "        self.ids = sorted([Path(anno).stem for anno in os.listdir(anno_dir)])\n",
    "\n",
    "    def get_no_transform(self, idx):\n",
    "        img_path = os.path.join(self.image_dir, f\"{self.ids[idx]}.{self.extension}\")\n",
    "        img = cv2.imread(img_path)\n",
    "        img = cv2.cvtColor(img, cv2.COLOR_BGR2RGB).astype(np.float32)\n",
    "        img /= 255\n",
    "        \n",
    "\n",
    "        anno_path = os.path.join(self.anno_dir, f\"{self.ids[idx]}.json\")\n",
    "        with open(anno_path) as f:\n",
    "            anno = json.load(f)\n",
    "\n",
    "        target = {\"labels\": [], \"labels_str\": [], \"boxes\": [], \"areas\": []}\n",
    "\n",
    "        for label, label_str, box, area in zip(anno[\"labels\"], anno[\"labels_str\"], anno[\"boxes\"], anno[\"areas\"]):\n",
    "            if area >= self.threshold and (label_str != \"other-sign\" or self.keep_other):\n",
    "                target[\"labels\"].append(label)\n",
    "                target[\"labels_str\"].append(label_str)\n",
    "                target[\"boxes\"].append(box)\n",
    "                target[\"areas\"].append(area)\n",
    "\n",
    "        return img, target\n",
    "\n",
    "    def __getitem__(self, idx):\n",
    "        img, _target = self.get_no_transform(idx)\n",
    "\n",
    "        target = {}\n",
    "\n",
    "        target[\"boxes\"] = torch.as_tensor(_target['boxes'], dtype=torch.float32)\n",
    "\n",
    "        target[\"labels\"] = (\n",
    "            torch.as_tensor(_target[\"labels\"], dtype=torch.int64)\n",
    "            if not self.only_detect\n",
    "            else torch.ones(len(_target[\"labels\"]), dtype=torch.int64)\n",
    "        )\n",
    "\n",
    "        local_transforms = self.transforms(height=img.shape[0], width=img.shape[1])\n",
    "\n",
    "        if self.transforms is not None:\n",
    "            sample = local_transforms(image=img, bboxes=target[\"boxes\"], labels=target[\"labels\"])\n",
    "\n",
    "            max_tries = 100\n",
    "            while len(sample[\"bboxes\"]) == 0:\n",
    "                sample = local_transforms(image=img, bboxes=target[\"boxes\"], labels=target[\"labels\"])\n",
    "\n",
    "                max_tries -= 1\n",
    "                if max_tries <= 0:\n",
    "                    break\n",
    "\n",
    "            img = sample[\"image\"]\n",
    "            target[\"boxes\"] = torch.as_tensor(sample[\"bboxes\"], dtype=torch.float32)\n",
    "            target[\"labels\"] = torch.as_tensor(sample[\"labels\"], dtype=torch.int64)\n",
    "        else:\n",
    "            img = ToTensorV2()(img)\n",
    "        \n",
    "        if len(target[\"boxes\"]) == 0:\n",
    "            target[\"boxes\"] = torch.empty((0,4), dtype=torch.float32)\n",
    "            target[\"labels\"] = torch.empty((0), dtype=torch.int64)\n",
    " \n",
    "        return img, target\n",
    " \n",
    "    def __len__(self):\n",
    "        return len(self.ids)\n",
    "\n",
    "def collate_fn(batch):\n",
    "    return tuple(zip(*batch))"
   ]
  },
  {
   "cell_type": "code",
   "execution_count": 5,
   "metadata": {},
   "outputs": [],
   "source": [
    "def get_transform(train):\n",
    "    if train:\n",
    "        return transform_train\n",
    "    else:\n",
    "        return transoform_test\n",
    "\n",
    "def transform_train(width=1000, height=1000):\n",
    "    if width > 1000:\n",
    "        width = 1000\n",
    "    if height > 1000:\n",
    "        height = 1000\n",
    "\n",
    "    return A.Compose(\n",
    "        [\n",
    "            A.RandomSizedBBoxSafeCrop(width=1000, height=1000, p=1.0),\n",
    "            A.RandomBrightnessContrast(p=0.5),\n",
    "            A.Rotate(limit=(-20, 20), p=0.5),\n",
    "            A.GaussianBlur(blur_limit=(3, 5), sigma_limit=(0.1, 0.2), p=0.5),\n",
    "            ToTensorV2(p=1.0),\n",
    "        ],\n",
    "        bbox_params={\n",
    "            \"format\": \"pascal_voc\",\n",
    "            \"label_fields\": [\"labels\"],\n",
    "            \"min_area\": 900,\n",
    "        },\n",
    "    )\n",
    "\n",
    "def transoform_test(width=1000, height=1000):\n",
    "    if width >= 2024 or height >= 2024:\n",
    "        if width >= height:\n",
    "            if width > 4000:\n",
    "                height = height * 4000 // width\n",
    "                width = 4000\n",
    "            else:\n",
    "                height = height * 2024 // width\n",
    "                width = 2024\n",
    "        else:\n",
    "            if height > 4000:\n",
    "                width = width * 4000 // height\n",
    "                height = 4000\n",
    "            else:\n",
    "                width = width * 2040 // height\n",
    "                height = 2040\n",
    "\n",
    "    return A.Compose(\n",
    "        [\n",
    "            A.Resize(width=width, height=height, p=1.0),\n",
    "            ToTensorV2(p=1.0),\n",
    "        ],\n",
    "        bbox_params={\"format\": \"pascal_voc\", \"label_fields\": [\"labels\"]},\n",
    "    )"
   ]
  },
  {
   "cell_type": "code",
   "execution_count": 8,
   "metadata": {},
   "outputs": [],
   "source": [
    "def train_one_epoch(model, optimizer, data_loader, device, epoch, scaler=None, writer=None):\n",
    "    model.train()\n",
    "\n",
    "    total_loss = []\n",
    "\n",
    "    lr_scheduler = None\n",
    "    if epoch == 0:\n",
    "        warmup_factor = 1.0 / 1000\n",
    "        warmup_iters = min(1000, len(data_loader) - 1)\n",
    "\n",
    "        lr_scheduler = torch.optim.lr_scheduler.LinearLR(\n",
    "            optimizer, start_factor=warmup_factor, total_iters=warmup_iters\n",
    "        )\n",
    "\n",
    "    for idx, (images, targets) in enumerate(\n",
    "        tqdm(data_loader, desc=f\"Epoch [{epoch+1}]\", position=0, leave=True)\n",
    "    ):\n",
    "        # to device\n",
    "        images = list(image.to(device) for image in images)\n",
    "        targets = [{k: v.to(device) for k, v in t.items()} for t in targets]\n",
    "\n",
    "        # loss\n",
    "        with torch.cuda.amp.autocast(enabled=scaler is not None):\n",
    "            loss_dict = model(images, targets)\n",
    "            losses = sum(loss for loss in loss_dict.values())\n",
    "        loss_value = losses.item()\n",
    "\n",
    "        if not math.isfinite(loss_value):\n",
    "            print(f\"Loss is {loss_value}, stopping training\")\n",
    "            print(loss_dict)\n",
    "            sys.exit(1)\n",
    "\n",
    "        optimizer.zero_grad()\n",
    "        if scaler is not None:\n",
    "            scaler.scale(losses).backward()\n",
    "            scaler.step(optimizer)\n",
    "            scaler.update()\n",
    "        else:\n",
    "            losses.backward()\n",
    "            optimizer.step()\n",
    "\n",
    "        if lr_scheduler is not None:\n",
    "            lr_scheduler.step()\n",
    "\n",
    "        total_loss += [losses.item()]\n",
    "\n",
    "    if writer is not None:\n",
    "        writer.add_scalar(\"Loss/train\", np.mean(total_loss), epoch)\n",
    "\n",
    "    return np.mean(total_loss)\n",
    "\n",
    "@torch.inference_mode()\n",
    "def evaluate(model, data_loader, device, metric, epoch, writer=None):\n",
    "    model.eval()\n",
    "\n",
    "    for images, targets in tqdm(data_loader, desc=\"Evaluating score\", position=0, leave=True):\n",
    "        # to device\n",
    "        images = list(image.to(device) for image in images)\n",
    "        targets = [{k: v.to(device) for k, v in t.items()} for t in targets]\n",
    "\n",
    "        with torch.cuda.amp.autocast(enabled=False):\n",
    "            detections = model(images, targets)\n",
    "\n",
    "        metric.update(detections, targets)\n",
    "\n",
    "    scores = metric.compute()\n",
    "    metric.reset()\n",
    "\n",
    "\n",
    "    model.train() # to get loss\n",
    "\n",
    "    total_loss = []\n",
    "\n",
    "    for images, targets in tqdm(data_loader, desc=\"Evaluating loss\", position=0, leave=True):\n",
    "        # to device\n",
    "        images = list(image.to(device) for image in images)\n",
    "        targets = [{k: v.to(device) for k, v in t.items()} for t in targets]\n",
    "\n",
    "        loss_dict = model(images, targets)\n",
    "        losses = sum(loss for loss in loss_dict.values())\n",
    "\n",
    "        total_loss += [losses.item()]\n",
    "\n",
    "    if writer is not None:\n",
    "        writer.add_scalar(\"Loss/val\", np.mean(total_loss), epoch)\n",
    "        writer.add_scalars(\"Score/val\", scores, epoch)\n",
    "\n",
    "    return np.mean(total_loss), scores\n"
   ]
  },
  {
   "cell_type": "code",
   "execution_count": 6,
   "metadata": {},
   "outputs": [
    {
     "name": "stdout",
     "output_type": "stream",
     "text": [
      "Using cuda\n"
     ]
    }
   ],
   "source": [
    "device = torch.device(\"cuda\" if torch.cuda.is_available() else \"cpu\")\n",
    "print(f\"Using {device}\")"
   ]
  },
  {
   "cell_type": "code",
   "execution_count": 7,
   "metadata": {},
   "outputs": [],
   "source": [
    "only_detect = True\n",
    "num_classes = 2 if only_detect else num_classes\n",
    "\n",
    "dataset_train = MTSD_Dataset(img_dir, anno_train, transforms=get_transform(True), only_detect=only_detect)\n",
    "dataset_val = MTSD_Dataset(img_dir, anno_val, transforms=get_transform(False), only_detect=only_detect)\n",
    "\n",
    "\n",
    "data_loader_train = torch.utils.data.DataLoader(\n",
    "    dataset_train,\n",
    "    batch_size=2,\n",
    "    shuffle=True,\n",
    "    num_workers=0,\n",
    "    collate_fn=collate_fn,\n",
    ")\n",
    "data_loader_val = torch.utils.data.DataLoader(\n",
    "    dataset_val,\n",
    "    batch_size=2,\n",
    "    shuffle=False,\n",
    "    num_workers=0,\n",
    "    collate_fn=collate_fn,\n",
    "    )"
   ]
  },
  {
   "cell_type": "code",
   "execution_count": 17,
   "metadata": {},
   "outputs": [],
   "source": [
    "# anchor_sizes = ((32,), (64,), (128,), (256,))\n",
    "# aspect_ratios = ((1,),) * len(anchor_sizes)\n",
    "# rpn_anchor_generator = AnchorGenerator(anchor_sizes, aspect_ratios)\n",
    "\n",
    "# backbone = torchvision.models.detection.backbone_utils.resnet_fpn_backbone('resnet50', True)\n",
    "# backbone.out_channels = 256\n",
    "\n",
    "# roi_pooler = torchvision.ops.MultiScaleRoIAlign(\n",
    "#     featmap_names=[0],\n",
    "#     output_size=7,\n",
    "#     sampling_ratio=2)\n",
    "# model = FasterRCNN(\n",
    "#     backbone, \n",
    "#     num_classes=num_classes,\n",
    "#     rpn_anchor_generator=rpn_anchor_generator,\n",
    "#     box_roi_pool=roi_pooler\n",
    "# )\n",
    "\n",
    "model = fasterrcnn_resnet50_fpn(\n",
    "    pretrained=False, num_classes=num_classes, pretrained_backbone=True\n",
    ")\n",
    "\n",
    "# model = torch.load('./train150.pkl')\n",
    "\n",
    "\n",
    "# model = fasterrcnn_resnet50_fpn(pretrained=True)\n",
    "# in_features = model.roi_heads.box_predictor.cls_score.in_features\n",
    "# model.roi_heads.box_predictor = FastRCNNPredictor(in_features, num_classes)\n",
    "\n",
    "params = [p for p in model.parameters() if p.requires_grad]\n",
    "optimizer = torch.optim.SGD(params, lr=0.001, momentum=0.9, weight_decay=0.0005)\n",
    "\n",
    "lr_scheduler = torch.optim.lr_scheduler.StepLR(optimizer, step_size=10, gamma=0.1)"
   ]
  },
  {
   "cell_type": "code",
   "execution_count": 18,
   "metadata": {},
   "outputs": [
    {
     "name": "stderr",
     "output_type": "stream",
     "text": [
      "Epoch [1]:  12%|█▏        | 323/2693 [03:07<22:54,  1.72it/s]\n"
     ]
    },
    {
     "ename": "KeyboardInterrupt",
     "evalue": "",
     "output_type": "error",
     "traceback": [
      "\u001b[1;31m---------------------------------------------------------------------------\u001b[0m",
      "\u001b[1;31mKeyboardInterrupt\u001b[0m                         Traceback (most recent call last)",
      "\u001b[1;32mc:\\Users\\saibo\\Documents\\bachelor_project\\mtsd.ipynb Cell 10'\u001b[0m in \u001b[0;36m<module>\u001b[1;34m\u001b[0m\n\u001b[0;32m     <a href='vscode-notebook-cell:/c%3A/Users/saibo/Documents/bachelor_project/mtsd.ipynb#ch0000027?line=10'>11</a>\u001b[0m model \u001b[39m=\u001b[39m model\u001b[39m.\u001b[39mto(device)\n\u001b[0;32m     <a href='vscode-notebook-cell:/c%3A/Users/saibo/Documents/bachelor_project/mtsd.ipynb#ch0000027?line=12'>13</a>\u001b[0m \u001b[39mfor\u001b[39;00m epoch \u001b[39min\u001b[39;00m \u001b[39mrange\u001b[39m(num_epochs):\n\u001b[0;32m     <a href='vscode-notebook-cell:/c%3A/Users/saibo/Documents/bachelor_project/mtsd.ipynb#ch0000027?line=13'>14</a>\u001b[0m     \u001b[39m# train one epoch\u001b[39;00m\n\u001b[1;32m---> <a href='vscode-notebook-cell:/c%3A/Users/saibo/Documents/bachelor_project/mtsd.ipynb#ch0000027?line=14'>15</a>\u001b[0m     loss \u001b[39m=\u001b[39m train_one_epoch(model, optimizer, data_loader_train, device\u001b[39m=\u001b[39;49mdevice, epoch\u001b[39m=\u001b[39;49mepoch, writer\u001b[39m=\u001b[39;49mwriter)\n\u001b[0;32m     <a href='vscode-notebook-cell:/c%3A/Users/saibo/Documents/bachelor_project/mtsd.ipynb#ch0000027?line=15'>16</a>\u001b[0m     train_losses \u001b[39m+\u001b[39m\u001b[39m=\u001b[39m [loss]\n\u001b[0;32m     <a href='vscode-notebook-cell:/c%3A/Users/saibo/Documents/bachelor_project/mtsd.ipynb#ch0000027?line=17'>18</a>\u001b[0m     \u001b[39m# update the learning rate\u001b[39;00m\n",
      "\u001b[1;32mc:\\Users\\saibo\\Documents\\bachelor_project\\mtsd.ipynb Cell 8'\u001b[0m in \u001b[0;36mtrain_one_epoch\u001b[1;34m(model, optimizer, data_loader, device, epoch, scaler, writer)\u001b[0m\n\u001b[0;32m      <a href='vscode-notebook-cell:/c%3A/Users/saibo/Documents/bachelor_project/mtsd.ipynb#ch0000003?line=8'>9</a>\u001b[0m     warmup_iters \u001b[39m=\u001b[39m \u001b[39mmin\u001b[39m(\u001b[39m1000\u001b[39m, \u001b[39mlen\u001b[39m(data_loader) \u001b[39m-\u001b[39m \u001b[39m1\u001b[39m)\n\u001b[0;32m     <a href='vscode-notebook-cell:/c%3A/Users/saibo/Documents/bachelor_project/mtsd.ipynb#ch0000003?line=10'>11</a>\u001b[0m     lr_scheduler \u001b[39m=\u001b[39m torch\u001b[39m.\u001b[39moptim\u001b[39m.\u001b[39mlr_scheduler\u001b[39m.\u001b[39mLinearLR(\n\u001b[0;32m     <a href='vscode-notebook-cell:/c%3A/Users/saibo/Documents/bachelor_project/mtsd.ipynb#ch0000003?line=11'>12</a>\u001b[0m         optimizer, start_factor\u001b[39m=\u001b[39mwarmup_factor, total_iters\u001b[39m=\u001b[39mwarmup_iters\n\u001b[0;32m     <a href='vscode-notebook-cell:/c%3A/Users/saibo/Documents/bachelor_project/mtsd.ipynb#ch0000003?line=12'>13</a>\u001b[0m     )\n\u001b[1;32m---> <a href='vscode-notebook-cell:/c%3A/Users/saibo/Documents/bachelor_project/mtsd.ipynb#ch0000003?line=14'>15</a>\u001b[0m \u001b[39mfor\u001b[39;00m idx, (images, targets) \u001b[39min\u001b[39;00m \u001b[39menumerate\u001b[39m(\n\u001b[0;32m     <a href='vscode-notebook-cell:/c%3A/Users/saibo/Documents/bachelor_project/mtsd.ipynb#ch0000003?line=15'>16</a>\u001b[0m     tqdm(data_loader, desc\u001b[39m=\u001b[39m\u001b[39mf\u001b[39m\u001b[39m\"\u001b[39m\u001b[39mEpoch [\u001b[39m\u001b[39m{\u001b[39;00mepoch\u001b[39m+\u001b[39m\u001b[39m1\u001b[39m\u001b[39m}\u001b[39;00m\u001b[39m]\u001b[39m\u001b[39m\"\u001b[39m, position\u001b[39m=\u001b[39m\u001b[39m0\u001b[39m, leave\u001b[39m=\u001b[39m\u001b[39mTrue\u001b[39;00m)\n\u001b[0;32m     <a href='vscode-notebook-cell:/c%3A/Users/saibo/Documents/bachelor_project/mtsd.ipynb#ch0000003?line=16'>17</a>\u001b[0m ):\n\u001b[0;32m     <a href='vscode-notebook-cell:/c%3A/Users/saibo/Documents/bachelor_project/mtsd.ipynb#ch0000003?line=17'>18</a>\u001b[0m     \u001b[39m# to device\u001b[39;00m\n\u001b[0;32m     <a href='vscode-notebook-cell:/c%3A/Users/saibo/Documents/bachelor_project/mtsd.ipynb#ch0000003?line=18'>19</a>\u001b[0m     images \u001b[39m=\u001b[39m \u001b[39mlist\u001b[39m(image\u001b[39m.\u001b[39mto(device) \u001b[39mfor\u001b[39;00m image \u001b[39min\u001b[39;00m images)\n\u001b[0;32m     <a href='vscode-notebook-cell:/c%3A/Users/saibo/Documents/bachelor_project/mtsd.ipynb#ch0000003?line=19'>20</a>\u001b[0m     targets \u001b[39m=\u001b[39m [{k: v\u001b[39m.\u001b[39mto(device) \u001b[39mfor\u001b[39;00m k, v \u001b[39min\u001b[39;00m t\u001b[39m.\u001b[39mitems()} \u001b[39mfor\u001b[39;00m t \u001b[39min\u001b[39;00m targets]\n",
      "File \u001b[1;32m~\\anaconda3\\envs\\BA\\lib\\site-packages\\tqdm\\std.py:1180\u001b[0m, in \u001b[0;36mtqdm.__iter__\u001b[1;34m(self)\u001b[0m\n\u001b[0;32m   <a href='file:///c%3A/Users/saibo/anaconda3/envs/BA/lib/site-packages/tqdm/std.py?line=1176'>1177</a>\u001b[0m time \u001b[39m=\u001b[39m \u001b[39mself\u001b[39m\u001b[39m.\u001b[39m_time\n\u001b[0;32m   <a href='file:///c%3A/Users/saibo/anaconda3/envs/BA/lib/site-packages/tqdm/std.py?line=1178'>1179</a>\u001b[0m \u001b[39mtry\u001b[39;00m:\n\u001b[1;32m-> <a href='file:///c%3A/Users/saibo/anaconda3/envs/BA/lib/site-packages/tqdm/std.py?line=1179'>1180</a>\u001b[0m     \u001b[39mfor\u001b[39;00m obj \u001b[39min\u001b[39;00m iterable:\n\u001b[0;32m   <a href='file:///c%3A/Users/saibo/anaconda3/envs/BA/lib/site-packages/tqdm/std.py?line=1180'>1181</a>\u001b[0m         \u001b[39myield\u001b[39;00m obj\n\u001b[0;32m   <a href='file:///c%3A/Users/saibo/anaconda3/envs/BA/lib/site-packages/tqdm/std.py?line=1181'>1182</a>\u001b[0m         \u001b[39m# Update and possibly print the progressbar.\u001b[39;00m\n\u001b[0;32m   <a href='file:///c%3A/Users/saibo/anaconda3/envs/BA/lib/site-packages/tqdm/std.py?line=1182'>1183</a>\u001b[0m         \u001b[39m# Note: does not call self.update(1) for speed optimisation.\u001b[39;00m\n",
      "File \u001b[1;32m~\\anaconda3\\envs\\BA\\lib\\site-packages\\torch\\utils\\data\\dataloader.py:521\u001b[0m, in \u001b[0;36m_BaseDataLoaderIter.__next__\u001b[1;34m(self)\u001b[0m\n\u001b[0;32m    <a href='file:///c%3A/Users/saibo/anaconda3/envs/BA/lib/site-packages/torch/utils/data/dataloader.py?line=518'>519</a>\u001b[0m \u001b[39mif\u001b[39;00m \u001b[39mself\u001b[39m\u001b[39m.\u001b[39m_sampler_iter \u001b[39mis\u001b[39;00m \u001b[39mNone\u001b[39;00m:\n\u001b[0;32m    <a href='file:///c%3A/Users/saibo/anaconda3/envs/BA/lib/site-packages/torch/utils/data/dataloader.py?line=519'>520</a>\u001b[0m     \u001b[39mself\u001b[39m\u001b[39m.\u001b[39m_reset()\n\u001b[1;32m--> <a href='file:///c%3A/Users/saibo/anaconda3/envs/BA/lib/site-packages/torch/utils/data/dataloader.py?line=520'>521</a>\u001b[0m data \u001b[39m=\u001b[39m \u001b[39mself\u001b[39;49m\u001b[39m.\u001b[39;49m_next_data()\n\u001b[0;32m    <a href='file:///c%3A/Users/saibo/anaconda3/envs/BA/lib/site-packages/torch/utils/data/dataloader.py?line=521'>522</a>\u001b[0m \u001b[39mself\u001b[39m\u001b[39m.\u001b[39m_num_yielded \u001b[39m+\u001b[39m\u001b[39m=\u001b[39m \u001b[39m1\u001b[39m\n\u001b[0;32m    <a href='file:///c%3A/Users/saibo/anaconda3/envs/BA/lib/site-packages/torch/utils/data/dataloader.py?line=522'>523</a>\u001b[0m \u001b[39mif\u001b[39;00m \u001b[39mself\u001b[39m\u001b[39m.\u001b[39m_dataset_kind \u001b[39m==\u001b[39m _DatasetKind\u001b[39m.\u001b[39mIterable \u001b[39mand\u001b[39;00m \\\n\u001b[0;32m    <a href='file:///c%3A/Users/saibo/anaconda3/envs/BA/lib/site-packages/torch/utils/data/dataloader.py?line=523'>524</a>\u001b[0m         \u001b[39mself\u001b[39m\u001b[39m.\u001b[39m_IterableDataset_len_called \u001b[39mis\u001b[39;00m \u001b[39mnot\u001b[39;00m \u001b[39mNone\u001b[39;00m \u001b[39mand\u001b[39;00m \\\n\u001b[0;32m    <a href='file:///c%3A/Users/saibo/anaconda3/envs/BA/lib/site-packages/torch/utils/data/dataloader.py?line=524'>525</a>\u001b[0m         \u001b[39mself\u001b[39m\u001b[39m.\u001b[39m_num_yielded \u001b[39m>\u001b[39m \u001b[39mself\u001b[39m\u001b[39m.\u001b[39m_IterableDataset_len_called:\n",
      "File \u001b[1;32m~\\anaconda3\\envs\\BA\\lib\\site-packages\\torch\\utils\\data\\dataloader.py:561\u001b[0m, in \u001b[0;36m_SingleProcessDataLoaderIter._next_data\u001b[1;34m(self)\u001b[0m\n\u001b[0;32m    <a href='file:///c%3A/Users/saibo/anaconda3/envs/BA/lib/site-packages/torch/utils/data/dataloader.py?line=558'>559</a>\u001b[0m \u001b[39mdef\u001b[39;00m \u001b[39m_next_data\u001b[39m(\u001b[39mself\u001b[39m):\n\u001b[0;32m    <a href='file:///c%3A/Users/saibo/anaconda3/envs/BA/lib/site-packages/torch/utils/data/dataloader.py?line=559'>560</a>\u001b[0m     index \u001b[39m=\u001b[39m \u001b[39mself\u001b[39m\u001b[39m.\u001b[39m_next_index()  \u001b[39m# may raise StopIteration\u001b[39;00m\n\u001b[1;32m--> <a href='file:///c%3A/Users/saibo/anaconda3/envs/BA/lib/site-packages/torch/utils/data/dataloader.py?line=560'>561</a>\u001b[0m     data \u001b[39m=\u001b[39m \u001b[39mself\u001b[39;49m\u001b[39m.\u001b[39;49m_dataset_fetcher\u001b[39m.\u001b[39;49mfetch(index)  \u001b[39m# may raise StopIteration\u001b[39;00m\n\u001b[0;32m    <a href='file:///c%3A/Users/saibo/anaconda3/envs/BA/lib/site-packages/torch/utils/data/dataloader.py?line=561'>562</a>\u001b[0m     \u001b[39mif\u001b[39;00m \u001b[39mself\u001b[39m\u001b[39m.\u001b[39m_pin_memory:\n\u001b[0;32m    <a href='file:///c%3A/Users/saibo/anaconda3/envs/BA/lib/site-packages/torch/utils/data/dataloader.py?line=562'>563</a>\u001b[0m         data \u001b[39m=\u001b[39m _utils\u001b[39m.\u001b[39mpin_memory\u001b[39m.\u001b[39mpin_memory(data)\n",
      "File \u001b[1;32m~\\anaconda3\\envs\\BA\\lib\\site-packages\\torch\\utils\\data\\_utils\\fetch.py:49\u001b[0m, in \u001b[0;36m_MapDatasetFetcher.fetch\u001b[1;34m(self, possibly_batched_index)\u001b[0m\n\u001b[0;32m     <a href='file:///c%3A/Users/saibo/anaconda3/envs/BA/lib/site-packages/torch/utils/data/_utils/fetch.py?line=46'>47</a>\u001b[0m \u001b[39mdef\u001b[39;00m \u001b[39mfetch\u001b[39m(\u001b[39mself\u001b[39m, possibly_batched_index):\n\u001b[0;32m     <a href='file:///c%3A/Users/saibo/anaconda3/envs/BA/lib/site-packages/torch/utils/data/_utils/fetch.py?line=47'>48</a>\u001b[0m     \u001b[39mif\u001b[39;00m \u001b[39mself\u001b[39m\u001b[39m.\u001b[39mauto_collation:\n\u001b[1;32m---> <a href='file:///c%3A/Users/saibo/anaconda3/envs/BA/lib/site-packages/torch/utils/data/_utils/fetch.py?line=48'>49</a>\u001b[0m         data \u001b[39m=\u001b[39m [\u001b[39mself\u001b[39m\u001b[39m.\u001b[39mdataset[idx] \u001b[39mfor\u001b[39;00m idx \u001b[39min\u001b[39;00m possibly_batched_index]\n\u001b[0;32m     <a href='file:///c%3A/Users/saibo/anaconda3/envs/BA/lib/site-packages/torch/utils/data/_utils/fetch.py?line=49'>50</a>\u001b[0m     \u001b[39melse\u001b[39;00m:\n\u001b[0;32m     <a href='file:///c%3A/Users/saibo/anaconda3/envs/BA/lib/site-packages/torch/utils/data/_utils/fetch.py?line=50'>51</a>\u001b[0m         data \u001b[39m=\u001b[39m \u001b[39mself\u001b[39m\u001b[39m.\u001b[39mdataset[possibly_batched_index]\n",
      "File \u001b[1;32m~\\anaconda3\\envs\\BA\\lib\\site-packages\\torch\\utils\\data\\_utils\\fetch.py:49\u001b[0m, in \u001b[0;36m<listcomp>\u001b[1;34m(.0)\u001b[0m\n\u001b[0;32m     <a href='file:///c%3A/Users/saibo/anaconda3/envs/BA/lib/site-packages/torch/utils/data/_utils/fetch.py?line=46'>47</a>\u001b[0m \u001b[39mdef\u001b[39;00m \u001b[39mfetch\u001b[39m(\u001b[39mself\u001b[39m, possibly_batched_index):\n\u001b[0;32m     <a href='file:///c%3A/Users/saibo/anaconda3/envs/BA/lib/site-packages/torch/utils/data/_utils/fetch.py?line=47'>48</a>\u001b[0m     \u001b[39mif\u001b[39;00m \u001b[39mself\u001b[39m\u001b[39m.\u001b[39mauto_collation:\n\u001b[1;32m---> <a href='file:///c%3A/Users/saibo/anaconda3/envs/BA/lib/site-packages/torch/utils/data/_utils/fetch.py?line=48'>49</a>\u001b[0m         data \u001b[39m=\u001b[39m [\u001b[39mself\u001b[39;49m\u001b[39m.\u001b[39;49mdataset[idx] \u001b[39mfor\u001b[39;00m idx \u001b[39min\u001b[39;00m possibly_batched_index]\n\u001b[0;32m     <a href='file:///c%3A/Users/saibo/anaconda3/envs/BA/lib/site-packages/torch/utils/data/_utils/fetch.py?line=49'>50</a>\u001b[0m     \u001b[39melse\u001b[39;00m:\n\u001b[0;32m     <a href='file:///c%3A/Users/saibo/anaconda3/envs/BA/lib/site-packages/torch/utils/data/_utils/fetch.py?line=50'>51</a>\u001b[0m         data \u001b[39m=\u001b[39m \u001b[39mself\u001b[39m\u001b[39m.\u001b[39mdataset[possibly_batched_index]\n",
      "\u001b[1;32mc:\\Users\\saibo\\Documents\\bachelor_project\\mtsd.ipynb Cell 4'\u001b[0m in \u001b[0;36mMTSD_Dataset.__getitem__\u001b[1;34m(self, idx)\u001b[0m\n\u001b[0;32m     <a href='vscode-notebook-cell:/c%3A/Users/saibo/Documents/bachelor_project/mtsd.ipynb#ch0000004?line=33'>34</a>\u001b[0m \u001b[39mdef\u001b[39;00m \u001b[39m__getitem__\u001b[39m(\u001b[39mself\u001b[39m, idx):\n\u001b[1;32m---> <a href='vscode-notebook-cell:/c%3A/Users/saibo/Documents/bachelor_project/mtsd.ipynb#ch0000004?line=34'>35</a>\u001b[0m     img, _target \u001b[39m=\u001b[39m \u001b[39mself\u001b[39;49m\u001b[39m.\u001b[39;49mget_no_transform(idx)\n\u001b[0;32m     <a href='vscode-notebook-cell:/c%3A/Users/saibo/Documents/bachelor_project/mtsd.ipynb#ch0000004?line=36'>37</a>\u001b[0m     target \u001b[39m=\u001b[39m {}\n\u001b[0;32m     <a href='vscode-notebook-cell:/c%3A/Users/saibo/Documents/bachelor_project/mtsd.ipynb#ch0000004?line=38'>39</a>\u001b[0m     target[\u001b[39m\"\u001b[39m\u001b[39mboxes\u001b[39m\u001b[39m\"\u001b[39m] \u001b[39m=\u001b[39m torch\u001b[39m.\u001b[39mas_tensor(_target[\u001b[39m'\u001b[39m\u001b[39mboxes\u001b[39m\u001b[39m'\u001b[39m], dtype\u001b[39m=\u001b[39mtorch\u001b[39m.\u001b[39mfloat32)\n",
      "\u001b[1;32mc:\\Users\\saibo\\Documents\\bachelor_project\\mtsd.ipynb Cell 4'\u001b[0m in \u001b[0;36mMTSD_Dataset.get_no_transform\u001b[1;34m(self, idx)\u001b[0m\n\u001b[0;32m     <a href='vscode-notebook-cell:/c%3A/Users/saibo/Documents/bachelor_project/mtsd.ipynb#ch0000004?line=13'>14</a>\u001b[0m img \u001b[39m=\u001b[39m cv2\u001b[39m.\u001b[39mimread(img_path)\n\u001b[0;32m     <a href='vscode-notebook-cell:/c%3A/Users/saibo/Documents/bachelor_project/mtsd.ipynb#ch0000004?line=14'>15</a>\u001b[0m img \u001b[39m=\u001b[39m cv2\u001b[39m.\u001b[39mcvtColor(img, cv2\u001b[39m.\u001b[39mCOLOR_BGR2RGB)\u001b[39m.\u001b[39mastype(np\u001b[39m.\u001b[39mfloat32)\n\u001b[1;32m---> <a href='vscode-notebook-cell:/c%3A/Users/saibo/Documents/bachelor_project/mtsd.ipynb#ch0000004?line=15'>16</a>\u001b[0m img \u001b[39m/\u001b[39m\u001b[39m=\u001b[39m \u001b[39m255\u001b[39m\n\u001b[0;32m     <a href='vscode-notebook-cell:/c%3A/Users/saibo/Documents/bachelor_project/mtsd.ipynb#ch0000004?line=18'>19</a>\u001b[0m anno_path \u001b[39m=\u001b[39m os\u001b[39m.\u001b[39mpath\u001b[39m.\u001b[39mjoin(\u001b[39mself\u001b[39m\u001b[39m.\u001b[39manno_dir, \u001b[39mf\u001b[39m\u001b[39m\"\u001b[39m\u001b[39m{\u001b[39;00m\u001b[39mself\u001b[39m\u001b[39m.\u001b[39mids[idx]\u001b[39m}\u001b[39;00m\u001b[39m.json\u001b[39m\u001b[39m\"\u001b[39m)\n\u001b[0;32m     <a href='vscode-notebook-cell:/c%3A/Users/saibo/Documents/bachelor_project/mtsd.ipynb#ch0000004?line=19'>20</a>\u001b[0m \u001b[39mwith\u001b[39;00m \u001b[39mopen\u001b[39m(anno_path) \u001b[39mas\u001b[39;00m f:\n",
      "\u001b[1;31mKeyboardInterrupt\u001b[0m: "
     ]
    }
   ],
   "source": [
    "num_epochs = 15\n",
    "\n",
    "val_metric = MeanAveragePrecision()\n",
    "\n",
    "train_losses = []\n",
    "val_losses = []\n",
    "val_scores = []\n",
    "\n",
    "writer = SummaryWriter(log_dir=\"logs/mtsd/run_3\")\n",
    "\n",
    "model = model.to(device)\n",
    "\n",
    "for epoch in range(num_epochs):\n",
    "    # train one epoch\n",
    "    loss = train_one_epoch(model, optimizer, data_loader_train, device=device, epoch=epoch, writer=writer)\n",
    "    train_losses += [loss]\n",
    "\n",
    "    # update the learning rate\n",
    "    lr_scheduler.step()\n",
    "\n",
    "    # evaluate on the test dataset\n",
    "    loss, scores = evaluate(model, data_loader_val, device=device, metric=val_metric, epoch=epoch, writer=writer)\n",
    "    val_losses += [loss]\n",
    "    val_scores += [scores]\n",
    "\n",
    "writer.flush()"
   ]
  },
  {
   "cell_type": "code",
   "execution_count": 115,
   "metadata": {},
   "outputs": [],
   "source": [
    "torch.save(model, f'./saved_models/mtsd/model{num_epochs}.pkl')\n",
    "torch.save(model.state_dict(), f'./saved_models/mtsd/model{num_epochs}.pth')\n",
    "torch.save({\n",
    "    'epoch' : epoch,\n",
    "    \"model_state_dict\" : model.state_dict(),\n",
    "    'optimizer_state_dict' : optimizer.state_dict(),\n",
    "}, f'./saved_models/mtsd/ckpt{num_epochs}.pth')"
   ]
  },
  {
   "cell_type": "code",
   "execution_count": 125,
   "metadata": {},
   "outputs": [
    {
     "data": {
      "image/png": "[encoded data removed]",
      "text/plain": [
       "<Figure size 720x576 with 1 Axes>"
      ]
     },
     "metadata": {
      "needs_background": "light"
     },
     "output_type": "display_data"
    }
   ],
   "source": [
    "epochs = range(num_epochs)\n",
    "fig = plt.figure(figsize=(10,8))\n",
    "plt.plot(epochs, train_losses, label=\"train loss\")\n",
    "plt.plot(epochs, val_losses, label=\"val loss\")\n",
    "plt.xlabel(\"Epochs\", fontdict={'size': 12})\n",
    "plt.ylabel(\"Loss\", fontdict={'size': 12})\n",
    "plt.title(\"Loss\", fontdict={'size': 16})\n",
    "plt.legend(prop={'size': 12})\n",
    "plt.show()"
   ]
  },
  {
   "cell_type": "code",
   "execution_count": 122,
   "metadata": {},
   "outputs": [
    {
     "data": {
      "image/png": "[encoded data removed]",
      "text/plain": [
       "<Figure size 720x576 with 1 Axes>"
      ]
     },
     "metadata": {
      "needs_background": "light"
     },
     "output_type": "display_data"
    }
   ],
   "source": [
    "val_map = [elm['map'] for elm in val_scores]\n",
    "val_map50 = [elm['map_50'] for elm in val_scores]\n",
    "val_map75 = [elm['map_75'] for elm in val_scores]\n",
    "\n",
    "score_metric = \"AP\" if only_detect else \"mAP\"\n",
    "\n",
    "fig = plt.figure(figsize=(10,8))\n",
    "plt.plot(epochs, val_map, label=f\"{score_metric} @ IoU=0.50:0.95\")\n",
    "plt.plot(epochs, val_map50, label=f\"{score_metric} @ IoU=0.50\")\n",
    "plt.plot(epochs, val_map75, label=f\"{score_metric} @ IoU=0.75\")\n",
    "plt.xlabel(\"Epochs\", fontdict={'size': 12})\n",
    "plt.ylabel(score_metric, fontdict={'size': 12})\n",
    "plt.yticks(np.linspace(0, 1, 7))\n",
    "plt.title(\"Averge Precision\", fontdict={'size': 16})\n",
    "plt.legend(prop={'size': 12})\n",
    "plt.show()"
   ]
  },
  {
   "cell_type": "code",
   "execution_count": 123,
   "metadata": {},
   "outputs": [
    {
     "data": {
      "text/plain": [
       "{'map': tensor(0.3663),\n",
       " 'map_50': tensor(0.5305),\n",
       " 'map_75': tensor(0.4320),\n",
       " 'map_small': tensor(0.0645),\n",
       " 'map_medium': tensor(0.3666),\n",
       " 'map_large': tensor(0.6423),\n",
       " 'mar_1': tensor(0.2953),\n",
       " 'mar_10': tensor(0.4807),\n",
       " 'mar_100': tensor(0.4811),\n",
       " 'mar_small': tensor(0.1133),\n",
       " 'mar_medium': tensor(0.5050),\n",
       " 'mar_large': tensor(0.8005),\n",
       " 'map_per_class': tensor(-1.),\n",
       " 'mar_100_per_class': tensor(-1.)}"
      ]
     },
     "execution_count": 123,
     "metadata": {},
     "output_type": "execute_result"
    }
   ],
   "source": [
    "final_score = val_scores[-1]\n",
    "final_score"
   ]
  },
  {
   "cell_type": "code",
   "execution_count": 126,
   "metadata": {},
   "outputs": [],
   "source": [
    "def draw_bounding_box_on_image(image, ymin, xmin, ymax, xmax, color, font, thickness=4, display_str=\"\"):\n",
    "  draw = ImageDraw.Draw(image)\n",
    "  im_width, im_height = image.size\n",
    "  (left, right, top, bottom) = (xmin * im_width, xmax * im_width, ymin * im_height, ymax * im_height)\n",
    "  draw.line([(left, top), (left, bottom), (right, bottom), (right, top), (left, top)], width=thickness, fill=color)\n",
    "\n",
    "  # If the total height of the display strings added to the top of the bounding\n",
    "  # box exceeds the top of the image, stack the strings below the bounding box\n",
    "  # instead of above.\n",
    "  display_str_height = (1 + 2 * 0.05) * font.getsize(display_str)[1]\n",
    "\n",
    "  if top > display_str_height:\n",
    "    text_bottom = top\n",
    "  else:\n",
    "    text_bottom = top + display_str_height\n",
    "\n",
    "  text_width, text_height = font.getsize(display_str)\n",
    "  margin = np.ceil(0.05 * text_height)\n",
    "  draw.rectangle([(left, text_bottom - text_height - 2 * margin), (left + text_width, text_bottom)], fill=color)\n",
    "  draw.text((left + margin, text_bottom - text_height - margin), display_str, fill=\"black\", font=font)\n",
    "\n",
    "\n",
    "\n",
    "def draw_boxes(image, boxes, labels, scores, keep, max_boxes=10, min_score=0.01, classes=None):\n",
    "  \"\"\" returns PIL image with boxes \"\"\"\n",
    "  colors = list(ImageColor.colormap.values())\n",
    "  font = ImageFont.load_default()\n",
    "\n",
    "  im_height, im_width = image.shape[1:]\n",
    "  image_pil = T.ToPILImage()(image)\n",
    "\n",
    "  for i in range(min(len(boxes), max_boxes)):\n",
    "    if scores[i] >= min_score and i in keep:\n",
    "      xmin, ymin, xmax, ymax = tuple(boxes[i])\n",
    "      xmin, ymin, xmax, ymax = xmin / im_width, ymin / im_height, xmax / im_width, ymax / im_height\n",
    "      label = classes[labels[i].item()] if classes is not None else labels[i].item()\n",
    "      display_str = f\"{label}: {int(100 * scores[i])}%\"\n",
    "      color = colors[hash(labels[i]) % len(colors)]\n",
    "      draw_bounding_box_on_image(image_pil, ymin, xmin, ymax, xmax, color, font, display_str=display_str)\n",
    "  return image_pil"
   ]
  },
  {
   "cell_type": "code",
   "execution_count": 14,
   "metadata": {},
   "outputs": [
    {
     "data": {
      "text/plain": [
       "1"
      ]
     },
     "execution_count": 14,
     "metadata": {},
     "output_type": "execute_result"
    }
   ],
   "source": [
    "with open(os.path.join(classes_dir, \"map_str2num.json\")) as f:\n",
    "    str2num = json.load(f)\n",
    "num2str = {v:k for v,k in str2num.items()} if not only_detect else {1: \"sign\"}\n",
    "len(num2str)"
   ]
  },
  {
   "cell_type": "code",
   "execution_count": 15,
   "metadata": {},
   "outputs": [],
   "source": [
    "def predict(img, model):\n",
    "    model.eval()\n",
    "\n",
    "    with torch.no_grad():\n",
    "        pred = model([img.to(device)])[0]\n",
    "\n",
    "    keep = torchvision.ops.nms(pred['boxes'] , pred['scores'], 0.1)\n",
    "    return pred, keep\n",
    "\n",
    "def predict_and_display(img, model):\n",
    "    pred, keep = predict(img, model)\n",
    "    labels = [num2str[label] for label in pred['labels'].cpu()]\n",
    "    return draw_boxes(img.cpu(), pred['boxes'].cpu(), labels, pred['scores'].cpu(), keep.cpu())"
   ]
  },
  {
   "cell_type": "code",
   "execution_count": 16,
   "metadata": {},
   "outputs": [
    {
     "ename": "NameError",
     "evalue": "name 'model' is not defined",
     "output_type": "error",
     "traceback": [
      "\u001b[1;31m---------------------------------------------------------------------------\u001b[0m",
      "\u001b[1;31mNameError\u001b[0m                                 Traceback (most recent call last)",
      "\u001b[1;32mc:\\Users\\saibo\\Documents\\bachelor_project\\mtsd.ipynb Cell 17'\u001b[0m in \u001b[0;36m<module>\u001b[1;34m\u001b[0m\n\u001b[0;32m      <a href='vscode-notebook-cell:/c%3A/Users/saibo/Documents/bachelor_project/mtsd.ipynb#ch0000051?line=0'>1</a>\u001b[0m i \u001b[39m=\u001b[39m \u001b[39m92\u001b[39m\n\u001b[1;32m----> <a href='vscode-notebook-cell:/c%3A/Users/saibo/Documents/bachelor_project/mtsd.ipynb#ch0000051?line=1'>2</a>\u001b[0m predict_and_display(dataset_val[i][\u001b[39m0\u001b[39m], model)\n",
      "\u001b[1;31mNameError\u001b[0m: name 'model' is not defined"
     ]
    }
   ],
   "source": [
    "i = 92\n",
    "predict_and_display(dataset_val[i][0], model)"
   ]
  },
  {
   "cell_type": "code",
   "execution_count": null,
   "metadata": {},
   "outputs": [],
   "source": []
  },
  {
   "cell_type": "code",
   "execution_count": null,
   "metadata": {},
   "outputs": [],
   "source": []
  }
 ],
 "metadata": {
  "interpreter": {
   "hash": "ecf69d408644e91f48dd8fc31679a7392159cf68d1722d1a0ff43b441139d402"
  },
  "kernelspec": {
   "display_name": "Python 3.9.10 ('BA')",
   "language": "python",
   "name": "python3"
  },
  "language_info": {
   "codemirror_mode": {
    "name": "ipython",
    "version": 3
   },
   "file_extension": ".py",
   "mimetype": "text/x-python",
   "name": "python",
   "nbconvert_exporter": "python",
   "pygments_lexer": "ipython3",
   "version": "3.9.10"
  },
  "orig_nbformat": 4
 },
 "nbformat": 4,
 "nbformat_minor": 2
}
